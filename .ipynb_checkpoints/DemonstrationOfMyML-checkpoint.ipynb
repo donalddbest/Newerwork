{
 "cells": [
  {
   "cell_type": "markdown",
   "metadata": {},
   "source": [
    "# The purpose of this script is to demonstrate how one might use the MyML package contained in this Github Repository."
   ]
  },
  {
   "cell_type": "markdown",
   "metadata": {},
   "source": [
    "# First thing to do is to load the relevant packages."
   ]
  },
  {
   "cell_type": "code",
   "execution_count": 1,
   "metadata": {},
   "outputs": [],
   "source": [
    "import numpy as np\n",
    "import MyML\n",
    "import matplotlib.pyplot as plt\n",
    "import scipy.io as io"
   ]
  },
  {
   "cell_type": "markdown",
   "metadata": {},
   "source": [
    "# Than we load in the data."
   ]
  },
  {
   "cell_type": "code",
   "execution_count": 2,
   "metadata": {},
   "outputs": [],
   "source": [
    "data = io.loadmat('shuttle.mat')"
   ]
  },
  {
   "cell_type": "markdown",
   "metadata": {},
   "source": [
    "# Let's look at the kind of data we have."
   ]
  },
  {
   "cell_type": "code",
   "execution_count": 3,
   "metadata": {},
   "outputs": [
    {
     "data": {
      "text/plain": [
       "{'__header__': b'MATLAB 5.0 MAT-file, Platform: MACI64, Created on: Tue Apr 26 18:16:23 2016',\n",
       " '__version__': '1.0',\n",
       " '__globals__': [],\n",
       " 'X': array([[ 50,  21,  77, ...,  27,  48,  22],\n",
       "        [ 53,   0,  82, ...,  29,  30,   2],\n",
       "        [ 37,   0,  76, ...,  40,  48,   8],\n",
       "        ...,\n",
       "        [ 49,   0,  87, ...,  38,  41,   2],\n",
       "        [ 80,   0,  84, ...,   4, 120, 116],\n",
       "        [ 37,   0, 103, ...,  66,  85,  20]], dtype=int16),\n",
       " 'y': array([[1],\n",
       "        [0],\n",
       "        [0],\n",
       "        ...,\n",
       "        [0],\n",
       "        [1],\n",
       "        [0]], dtype=uint8)}"
      ]
     },
     "execution_count": 3,
     "metadata": {},
     "output_type": "execute_result"
    }
   ],
   "source": [
    "data"
   ]
  },
  {
   "cell_type": "markdown",
   "metadata": {},
   "source": [
    "# You'll notice that the features are contained at the key X and the labels are contained at the key Y so let's get those into a slightly better format."
   ]
  },
  {
   "cell_type": "code",
   "execution_count": 4,
   "metadata": {},
   "outputs": [],
   "source": [
    "X = data['X']\n",
    "Y = data['y']"
   ]
  },
  {
   "cell_type": "code",
   "execution_count": 5,
   "metadata": {},
   "outputs": [
    {
     "data": {
      "text/plain": [
       "0.0715114976475141"
      ]
     },
     "execution_count": 5,
     "metadata": {},
     "output_type": "execute_result"
    }
   ],
   "source": [
    "np.sum(Y)/len(Y)"
   ]
  },
  {
   "cell_type": "markdown",
   "metadata": {},
   "source": [
    "# Only 7% of the data has the label 1 so if we want a neural network to succeed we're going to need to over and/or undersample. Before we do that we should split the data into a training, validation, and a test set."
   ]
  },
  {
   "cell_type": "code",
   "execution_count": 6,
   "metadata": {},
   "outputs": [],
   "source": [
    "FullDataSet = np.column_stack((X,Y))\n",
    "train, val, test = MyML.TVTsplit(FullDataSet, .7)"
   ]
  },
  {
   "cell_type": "markdown",
   "metadata": {},
   "source": [
    "# Notice that the above took one line to split the data into the three relevant features with the TVTsplit function, the .7 specifies what fraction of the data should go into the training set, and the remainder of the data gets split between the val and test set."
   ]
  },
  {
   "cell_type": "markdown",
   "metadata": {},
   "source": [
    "# Next to oversample and undersample the data we need to split it into 2 data sets, one for the majority class and one for the minority."
   ]
  },
  {
   "cell_type": "code",
   "execution_count": 7,
   "metadata": {},
   "outputs": [
    {
     "name": "stdout",
     "output_type": "stream",
     "text": [
      "[[ 49   0 102   0  50   2  53  53   0   0]\n",
      " [ 55   0  83   1  54   0  29  29   0   0]\n",
      " [ 47   0  86   8  46   0  39  40   0   0]\n",
      " [ 37   0  79   2   2   2  42  76  34   0]\n",
      " [ 56   1  83   0  56  12  27  26   0   0]]\n",
      "[[ 79   0  83   0 -42   0   5 127 122   1]\n",
      " [ 79   0  84   3 -32  -9   4 117 112   1]\n",
      " [ 79   0  83   0 -32  14   4 117 112   1]\n",
      " [102   0 104   0  70   0   1  34  32   1]\n",
      " [ 85   0  88   0   6   2   3  83  80   1]]\n"
     ]
    }
   ],
   "source": [
    "Majority = train[np.where(train[:,-1] == 0)[0],]\n",
    "Minority = train[np.where(train[:,-1] == 1)[0],]\n",
    "print(Majority[0:5,])\n",
    "print(Minority[0:5,])"
   ]
  },
  {
   "cell_type": "markdown",
   "metadata": {},
   "source": [
    "# To over or undersample with MyML all that is required is to call the sample function with the number of observations that you would like in that class."
   ]
  },
  {
   "cell_type": "code",
   "execution_count": 8,
   "metadata": {},
   "outputs": [
    {
     "name": "stdout",
     "output_type": "stream",
     "text": [
      "31916\n",
      "8000\n",
      "2451\n",
      "8000\n"
     ]
    }
   ],
   "source": [
    "overs = MyML.sample(Minority, 8000)\n",
    "unders = MyML.sample(Majority, 8000)\n",
    "print(len(Majority))\n",
    "print(len(unders))\n",
    "print(len(Minority))\n",
    "print(len(overs))"
   ]
  },
  {
   "cell_type": "markdown",
   "metadata": {},
   "source": [
    "# MyML also has the ability to do SMOTE as an oversampling method."
   ]
  },
  {
   "cell_type": "code",
   "execution_count": 9,
   "metadata": {},
   "outputs": [
    {
     "name": "stdout",
     "output_type": "stream",
     "text": [
      "9804\n"
     ]
    }
   ],
   "source": [
    "smotes = MyML.smote(Minority, 3)\n",
    "print(len(smotes))"
   ]
  },
  {
   "cell_type": "markdown",
   "metadata": {},
   "source": [
    "# Since we have a more balanced representation of the Majority and Minority classes, let's proceed with actually modeling. First we recombine the sampled data into a new training set then min-max scale the data."
   ]
  },
  {
   "cell_type": "code",
   "execution_count": 10,
   "metadata": {},
   "outputs": [],
   "source": [
    "Train = np.row_stack((smotes, unders))\n",
    "Xtrain = Train[:,:-1]\n",
    "Ytrain = Train[:,-1].reshape(-1,1)\n",
    "Xval = val[:,:-1]\n",
    "Yval = val[:,-1].reshape(-1,1)\n",
    "Xtest = test[:,:-1]\n",
    "Ytest = test[:,-1].reshape(-1,1)\n",
    "trainmins = np.min(Xtrain, axis = 0)\n",
    "trainmaxs = np.max(Xtrain, axis = 0)\n",
    "Xtrain = (Xtrain - trainmins)/(trainmaxs - trainmins)\n",
    "Xval = (Xval - trainmins)/(trainmaxs - trainmins)\n",
    "Xtest = (Xtest - trainmins)/(trainmaxs - trainmins)"
   ]
  },
  {
   "cell_type": "markdown",
   "metadata": {},
   "source": [
    "# First let's see what we can do with just a Logistic Regression, note that a logistic regression is just a single layer Neural Network."
   ]
  },
  {
   "cell_type": "code",
   "execution_count": 11,
   "metadata": {},
   "outputs": [
    {
     "data": {
      "image/png": "[encoded data removed]",
      "text/plain": [
       "<Figure size 432x288 with 1 Axes>"
      ]
     },
     "metadata": {
      "needs_background": "light"
     },
     "output_type": "display_data"
    }
   ],
   "source": [
    "logmodel = MyML.NeuralNetwork(indims = Xtrain.shape[1], nodes = [1],activations = [], taskType = 'classification')\n",
    "logmodel.train(Xtrain, Ytrain, epochs = 1000)"
   ]
  },
  {
   "cell_type": "markdown",
   "metadata": {},
   "source": [
    "# Note that the preceding initializes the model and then trains it. There are a couple more things to note there. First, you need to specify the number of features you will be putting in with indims. Second, you need to specify the number of output variables as the last number in the list of nodes. Third, you don't need to specify the activation on the final layer (in this case the only layer) since it interprets what the necessary output should be by the last number and the taskType which can be classification (or c) or regression (or r)."
   ]
  },
  {
   "cell_type": "code",
   "execution_count": 12,
   "metadata": {},
   "outputs": [
    {
     "data": {
      "text/plain": [
       "0.9702970297029703"
      ]
     },
     "execution_count": 12,
     "metadata": {},
     "output_type": "execute_result"
    }
   ],
   "source": [
    "MyML.f1(np.round(logmodel.predict(Xval)), Yval)"
   ]
  },
  {
   "cell_type": "markdown",
   "metadata": {},
   "source": [
    "# Wow, a logistic regression managed to get .93 F1 score with no feature engineering. Along with F1 score, there are other metric functions like recall, precision, accuracy, and even a confusion matrix. Let's see what kind of damage we can do with a more complicated neural network. The following uses the Adam optimizer with several different types of layers and a couple of types of regression so you can see the various options. Also note that I'm specifying Xval and Yval in there so you can see how the model is doing with your validation set."
   ]
  },
  {
   "cell_type": "code",
   "execution_count": 13,
   "metadata": {},
   "outputs": [
    {
     "data": {
      "image/png": "[encoded data removed]",
      "text/plain": [
       "<Figure size 432x288 with 1 Axes>"
      ]
     },
     "metadata": {
      "needs_background": "light"
     },
     "output_type": "display_data"
    }
   ],
   "source": [
    "complexNeuralNet = MyML.NeuralNetwork(indims = Xtrain.shape[1], nodes = [6,6,5,1],activations = ['relu','tanh','sigmoid'], taskType = 'c')\n",
    "complexNeuralNet.train(Xtrain, Ytrain, Xval, Yval, epochs = 1000,lr = .003, optim = 'adam', l1 = .001, l2 = .001, p = .3)"
   ]
  },
  {
   "cell_type": "markdown",
   "metadata": {},
   "source": [
    "# Now that doesn't look nearly as good as our other error curve, but that's mostly because we started to overfit like crazy since the logistic regression model was so good. The purpose of the previous was really to show that there are a bunch of options you can specify for your neural network."
   ]
  },
  {
   "cell_type": "code",
   "execution_count": 14,
   "metadata": {},
   "outputs": [
    {
     "name": "stdout",
     "output_type": "stream",
     "text": [
      "Help on class NeuralNetwork in module MyML.MyTorch:\n",
      "\n",
      "class NeuralNetwork(builtins.object)\n",
      " |  NeuralNetwork(indims, nodes=[5, 5, 5, 3], activations=['tanh', 'tanh', 'tanh'], taskType='c')\n",
      " |  \n",
      " |  Methods defined here:\n",
      " |  \n",
      " |  __init__(self, indims, nodes=[5, 5, 5, 3], activations=['tanh', 'tanh', 'tanh'], taskType='c')\n",
      " |      Initialize self.  See help(type(self)) for accurate signature.\n",
      " |  \n",
      " |  backProp(self, Y, lr, t)\n",
      " |  \n",
      " |  drop_predict(self, X, p)\n",
      " |  \n",
      " |  predict(self, X, p=1)\n",
      " |  \n",
      " |  train(self, X, Y, Xval=[], Yval=[], epochs=10, lr=0.0001, gamma=0, l1=0, l2=0, moment=0, p=1, batchsize='full', decay=0, k=0.9, T=20, optim=0, calcerr=True)\n",
      " |  \n",
      " |  ----------------------------------------------------------------------\n",
      " |  Data descriptors defined here:\n",
      " |  \n",
      " |  __dict__\n",
      " |      dictionary for instance variables (if defined)\n",
      " |  \n",
      " |  __weakref__\n",
      " |      list of weak references to the object (if defined)\n",
      "\n"
     ]
    }
   ],
   "source": [
    "help(MyML.NeuralNetwork)"
   ]
  }
 ],
 "metadata": {
  "kernelspec": {
   "display_name": "Python 3",
   "language": "python",
   "name": "python3"
  },
  "language_info": {
   "codemirror_mode": {
    "name": "ipython",
    "version": 3
   },
   "file_extension": ".py",
   "mimetype": "text/x-python",
   "name": "python",
   "nbconvert_exporter": "python",
   "pygments_lexer": "ipython3",
   "version": "3.7.1"
  }
 },
 "nbformat": 4,
 "nbformat_minor": 2
}
