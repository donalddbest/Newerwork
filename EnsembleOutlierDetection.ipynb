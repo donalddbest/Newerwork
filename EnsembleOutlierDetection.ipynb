{
 "cells": [
  {
   "cell_type": "code",
   "execution_count": 370,
   "metadata": {},
   "outputs": [],
   "source": [
    "import numpy as np\n",
    "import scipy.stats as sp\n",
    "import matplotlib.pyplot as plt\n",
    "import scipy.io as io\n",
    "from MyML import *"
   ]
  },
  {
   "cell_type": "code",
   "execution_count": 2,
   "metadata": {},
   "outputs": [],
   "source": [
    "def res(X,mu, sigma, Pi):\n",
    "#     print(X.shape)\n",
    "#     print(mu.shape)\n",
    "#     print(sigma.shape)\n",
    "#     print(Pi)\n",
    "    d = Pi*sp.multivariate_normal.pdf(X, mu, sigma)\n",
    "    return d"
   ]
  },
  {
   "cell_type": "code",
   "execution_count": 3,
   "metadata": {},
   "outputs": [],
   "source": [
    "full = io.loadmat('shuttle.mat')"
   ]
  },
  {
   "cell_type": "code",
   "execution_count": 183,
   "metadata": {},
   "outputs": [],
   "source": [
    "def TVTsplit(matrix, train = .7):\n",
    "    #     This function's purpose is to split a given matrix\n",
    "    #     into three parts: train, test, and validate. The \n",
    "    #     train parameter is the percentage of the data that\n",
    "    #     goes into training 70% by default. The val parameter\n",
    "    #     determines how much goes into the validation set\n",
    "    #     15% by default. The rest of the data goes into\n",
    "    #     the test set.\n",
    "    \n",
    "#     The following is needed to perform the operations\n",
    "#     in the calculations in here.\n",
    "    import numpy as np\n",
    "    # The following does some common sense things like\n",
    "    # telling you that train and val need to add up to less\n",
    "    # than 1.\n",
    "\n",
    "    if(train > .99):\n",
    "        print(\"Splitting failed. Please make sure that train is less than .99 so that test and val have enough data.\")\n",
    "        return 0\n",
    "    \n",
    "#     These two things calculate the subset lengths that \n",
    "#     are needed for the subsetting.\n",
    "    splitnum = int(len(matrix[:,0])*train)\n",
    "    splitnum2 = int((len(matrix[:,0]) - splitnum)/2)\n",
    "#     np.random.shuffle(matrix)\n",
    "\n",
    "#     The next three separate the data into the three sets\n",
    "#     using the splitnums from above.\n",
    "    Train = matrix[0:splitnum,]\n",
    "    Test = matrix[splitnum:(splitnum+splitnum2),]\n",
    "    Val = matrix[(splitnum+splitnum2):,]\n",
    "    return Train, Val, Test"
   ]
  },
  {
   "cell_type": "code",
   "execution_count": 184,
   "metadata": {},
   "outputs": [],
   "source": [
    "fullX = np.array(full['X'], dtype = float)\n",
    "fullY = full['y']"
   ]
  },
  {
   "cell_type": "code",
   "execution_count": 186,
   "metadata": {},
   "outputs": [],
   "source": [
    "train,val, test = TVTsplit(np.column_stack((fullX,fullY)))"
   ]
  },
  {
   "cell_type": "code",
   "execution_count": 187,
   "metadata": {},
   "outputs": [],
   "source": [
    "Xtrain = train[np.where(train[:,-1] == 0)[0],:-1]"
   ]
  },
  {
   "cell_type": "code",
   "execution_count": 188,
   "metadata": {},
   "outputs": [
    {
     "data": {
      "text/plain": [
       "49097"
      ]
     },
     "execution_count": 188,
     "metadata": {},
     "output_type": "execute_result"
    }
   ],
   "source": [
    "len(fullX)"
   ]
  },
  {
   "cell_type": "code",
   "execution_count": null,
   "metadata": {},
   "outputs": [],
   "source": []
  },
  {
   "cell_type": "code",
   "execution_count": 270,
   "metadata": {},
   "outputs": [
    {
     "name": "stdout",
     "output_type": "stream",
     "text": [
      "0\n",
      "1\n",
      "2\n",
      "3\n",
      "4\n",
      "5\n",
      "6\n",
      "7\n",
      "8\n",
      "9\n",
      "10\n",
      "11\n",
      "12\n",
      "13\n",
      "14\n",
      "15\n",
      "16\n",
      "17\n",
      "18\n",
      "19\n",
      "20\n",
      "21\n",
      "22\n",
      "23\n",
      "24\n",
      "25\n",
      "26\n",
      "27\n",
      "28\n",
      "29\n",
      "30\n",
      "31\n",
      "32\n",
      "33\n",
      "34\n",
      "35\n",
      "36\n",
      "37\n",
      "38\n",
      "39\n"
     ]
    }
   ],
   "source": [
    "k = 14\n",
    "M = np.empty((k,Xtrain.shape[1]))\n",
    "sigma = np.empty((Xtrain.shape[1],Xtrain.shape[1],k))\n",
    "M = Xtrain[np.random.choice(Xtrain.shape[0],k)].astype(np.float64)\n",
    "for i in range(k):\n",
    "    r = np.random.randn(9,9)*500\n",
    "    sigma[:,:,i] = r.T@r\n",
    "Pi = np.ones(k)/k\n",
    "for i in range(40):\n",
    "    print(i)\n",
    "    D = np.empty((len(Xtrain),k))\n",
    "    for i in range(0,k):\n",
    "        D[:,i] = np.array(res(Xtrain, M[i,], sigma[:,:,i], Pi[i]), dtype = float)\n",
    "    D = D/np.sum(D, axis = 1).reshape(-1,1)\n",
    "    Pi = np.mean(D,axis = 0)\n",
    "    for i in range(0,k):\n",
    "        M[i,] = np.array(np.sum(D[:,i].reshape(-1,1)*Xtrain, axis = 0)/np.sum(D[:,i]).reshape(-1,1), dtype = float)\n",
    "        sigma[:,:,i] = (D[:,i].reshape(-1,1)*(Xtrain - M[i,])).T@(Xtrain - M[i,])/np.sum(D[:,i]).reshape(-1,1) + .00001*np.eye(fullX.shape[1])"
   ]
  },
  {
   "cell_type": "code",
   "execution_count": 271,
   "metadata": {},
   "outputs": [],
   "source": [
    "newD = np.empty((len(train[:,:-1]),k))\n",
    "for i in range(0,k):\n",
    "    newD[:,i] = np.array(res(train[:,:-1], M[i,], sigma[:,:,i], Pi[i]), dtype = float)"
   ]
  },
  {
   "cell_type": "code",
   "execution_count": 277,
   "metadata": {},
   "outputs": [
    {
     "data": {
      "text/plain": [
       "69"
      ]
     },
     "execution_count": 277,
     "metadata": {},
     "output_type": "execute_result"
    }
   ],
   "source": [
    "len(train[:,-1])-np.sum((np.sum(newD, axis = 1)<3e-18).reshape(-1,1) == train[:,-1].reshape(-1,1))"
   ]
  },
  {
   "cell_type": "code",
   "execution_count": 486,
   "metadata": {},
   "outputs": [],
   "source": [
    "newestD = np.empty((len(test[:,:-1]),k))\n",
    "for i in range(0,k):\n",
    "    newestD[:,i] = np.array(res(test[:,:-1], M[i,], sigma[:,:,i], Pi[i]), dtype = float)"
   ]
  },
  {
   "cell_type": "code",
   "execution_count": 487,
   "metadata": {},
   "outputs": [
    {
     "data": {
      "text/plain": [
       "36"
      ]
     },
     "execution_count": 487,
     "metadata": {},
     "output_type": "execute_result"
    }
   ],
   "source": [
    "len(test[:,-1])-np.sum((np.sum(newestD, axis = 1)<1e-17).reshape(-1,1) == test[:,-1].reshape(-1,1))"
   ]
  },
  {
   "cell_type": "markdown",
   "metadata": {},
   "source": [
    "# Start KNN"
   ]
  },
  {
   "cell_type": "code",
   "execution_count": 180,
   "metadata": {},
   "outputs": [],
   "source": [
    "def dist(a,b):\n",
    "    return np.sum((a-b)**2, axis  = 1)"
   ]
  },
  {
   "cell_type": "code",
   "execution_count": 509,
   "metadata": {},
   "outputs": [],
   "source": [
    "Xtrain = (train[:,:-1] - trainmin)/(trainmax - trainmin)\n",
    "Xval = (val[:,:-1] - trainmin)/(trainmax - trainmin)"
   ]
  },
  {
   "cell_type": "code",
   "execution_count": 511,
   "metadata": {},
   "outputs": [],
   "source": [
    "Dknn = np.empty((len(Xval),len(Xtrain)))\n",
    "for i in range(len(Xval)):\n",
    "    Dknn[i,] = dist(Xtrain,Xval[i,])\n",
    "prednum = np.argsort(Dknn, axis = 1)[:,0:1]"
   ]
  },
  {
   "cell_type": "code",
   "execution_count": 512,
   "metadata": {},
   "outputs": [],
   "source": [
    "Ytrain = train[:,-1]\n",
    "yknnvotes = Ytrain[prednum]\n",
    "predYknn = yknnvotes"
   ]
  },
  {
   "cell_type": "code",
   "execution_count": 513,
   "metadata": {},
   "outputs": [],
   "source": [
    "predYknn = []\n",
    "for i in range(len(yknnvotes)):\n",
    "    uniques, counts = np.unique(yknnvotes[i], return_counts = True)\n",
    "    newcounts = counts[np.argsort(counts)]\n",
    "    newercounts = (newcounts == np.max(newcounts))\n",
    "    num = np.sum(newercounts).astype(int)\n",
    "    index = np.random.randint(0,num)\n",
    "    predYknn.append(uniques[np.argsort(counts)[-num]])"
   ]
  },
  {
   "cell_type": "code",
   "execution_count": 515,
   "metadata": {},
   "outputs": [
    {
     "data": {
      "text/plain": [
       "5"
      ]
     },
     "execution_count": 515,
     "metadata": {},
     "output_type": "execute_result"
    }
   ],
   "source": [
    "len(val) - np.sum(predYknn == val[:,-1])"
   ]
  },
  {
   "cell_type": "markdown",
   "metadata": {},
   "source": [
    "# Start KNN-dist"
   ]
  },
  {
   "cell_type": "code",
   "execution_count": 525,
   "metadata": {},
   "outputs": [],
   "source": [
    "newdist = []\n",
    "for i in range(len(Dknn)):\n",
    "    subD = Dknn[i,np.argsort(Dknn[i,])[0:9]]\n",
    "    newdist.append(np.sum(subD))\n"
   ]
  },
  {
   "cell_type": "code",
   "execution_count": 544,
   "metadata": {},
   "outputs": [
    {
     "data": {
      "text/plain": [
       "509"
      ]
     },
     "execution_count": 544,
     "metadata": {},
     "output_type": "execute_result"
    }
   ],
   "source": [
    "predYdist = np.array(newdist) > .1\n",
    "np.sum(predYdist != val[:,-1])"
   ]
  },
  {
   "cell_type": "code",
   "execution_count": 517,
   "metadata": {},
   "outputs": [],
   "source": [
    "newDval = np.empty((len(val[:,:-1]),k))\n",
    "for i in range(0,k):\n",
    "    newDval[:,i] = np.array(res(Xval, M[i,], sigma[:,:,i], Pi[i]), dtype = float)"
   ]
  },
  {
   "cell_type": "code",
   "execution_count": 523,
   "metadata": {},
   "outputs": [
    {
     "data": {
      "text/plain": [
       "514"
      ]
     },
     "execution_count": 523,
     "metadata": {},
     "output_type": "execute_result"
    }
   ],
   "source": [
    "predYgmm = (np.sum(newDval, axis = 1)<3e-18).astype(int)"
   ]
  },
  {
   "cell_type": "code",
   "execution_count": 519,
   "metadata": {},
   "outputs": [],
   "source": [
    "predYdist = np.array(predYdist).astype(int)"
   ]
  },
  {
   "cell_type": "code",
   "execution_count": 412,
   "metadata": {},
   "outputs": [
    {
     "data": {
      "text/plain": [
       "81"
      ]
     },
     "execution_count": 412,
     "metadata": {},
     "output_type": "execute_result"
    }
   ],
   "source": [
    "import gc\n",
    "gc.collect()"
   ]
  },
  {
   "cell_type": "code",
   "execution_count": 444,
   "metadata": {},
   "outputs": [],
   "source": [
    "trainmax = np.max(train[:,:-1], axis = 0)\n",
    "trainmin = np.min(train[:,:-1], axis = 0)"
   ]
  },
  {
   "cell_type": "code",
   "execution_count": 469,
   "metadata": {},
   "outputs": [],
   "source": [
    "annmodel = NeuralNetwork(indims = 9, nodes = [20,20,20,20,1], activations = ['relu','relu','relu','relu'], taskType = 'c')"
   ]
  },
  {
   "cell_type": "code",
   "execution_count": 470,
   "metadata": {},
   "outputs": [
    {
     "data": {
      "image/png": "[encoded data removed]",
      "text/plain": [
       "<Figure size 432x288 with 1 Axes>"
      ]
     },
     "metadata": {
      "needs_background": "light"
     },
     "output_type": "display_data"
    }
   ],
   "source": [
    "annmodel.train((train[:,:-1]-trainmin)/(trainmax - trainmin),train[:,-1].reshape(-1,1),(val[:,:-1]-trainmin)/(trainmax - trainmin),val[:,-1].reshape(-1,1), optim = 'adam', lr = .001, epochs = 1000)"
   ]
  },
  {
   "cell_type": "code",
   "execution_count": 471,
   "metadata": {},
   "outputs": [
    {
     "data": {
      "text/plain": [
       "24"
      ]
     },
     "execution_count": 471,
     "metadata": {},
     "output_type": "execute_result"
    }
   ],
   "source": [
    "np.sum(annmodel.prediction != val[:,-1].reshape(-1,1))"
   ]
  },
  {
   "cell_type": "code",
   "execution_count": 472,
   "metadata": {},
   "outputs": [],
   "source": [
    "Votes = np.column_stack((predYdist,predYgmm,predYknn,annmodel.prediction))"
   ]
  },
  {
   "cell_type": "code",
   "execution_count": 476,
   "metadata": {},
   "outputs": [],
   "source": [
    "ensemble = NeuralNetwork(indims = 4, nodes = [10,10,10,1], activations = ['relu','relu','relu'], taskType = 'c')"
   ]
  },
  {
   "cell_type": "code",
   "execution_count": 477,
   "metadata": {},
   "outputs": [
    {
     "data": {
      "image/png": "[encoded data removed]",
      "text/plain": [
       "<Figure size 432x288 with 1 Axes>"
      ]
     },
     "metadata": {
      "needs_background": "light"
     },
     "output_type": "display_data"
    }
   ],
   "source": [
    "ensemble.train(Votes,val[:,-1].reshape(-1,1), optim = 'adam', lr = .001, epochs = 3000)"
   ]
  },
  {
   "cell_type": "code",
   "execution_count": 495,
   "metadata": {},
   "outputs": [],
   "source": [
    "valpreds = np.round(ensemble.predict(Votes, p = 1))"
   ]
  },
  {
   "cell_type": "code",
   "execution_count": 496,
   "metadata": {},
   "outputs": [
    {
     "data": {
      "text/plain": [
       "6"
      ]
     },
     "execution_count": 496,
     "metadata": {},
     "output_type": "execute_result"
    }
   ],
   "source": [
    "np.sum(valpreds != val[:,-1].reshape(-1,1))"
   ]
  },
  {
   "cell_type": "code",
   "execution_count": 499,
   "metadata": {},
   "outputs": [
    {
     "data": {
      "text/plain": [
       "7365"
      ]
     },
     "execution_count": 499,
     "metadata": {},
     "output_type": "execute_result"
    }
   ],
   "source": [
    "len(valpreds)"
   ]
  },
  {
   "cell_type": "code",
   "execution_count": 497,
   "metadata": {},
   "outputs": [
    {
     "data": {
      "text/plain": [
       "0.9991853360488798"
      ]
     },
     "execution_count": 497,
     "metadata": {},
     "output_type": "execute_result"
    }
   ],
   "source": [
    "(np.sum(valpreds == val[:,-1].reshape(-1,1)))/len(val)"
   ]
  },
  {
   "cell_type": "code",
   "execution_count": 502,
   "metadata": {},
   "outputs": [
    {
     "data": {
      "text/plain": [
       "0.9961089494163424"
      ]
     },
     "execution_count": 502,
     "metadata": {},
     "output_type": "execute_result"
    }
   ],
   "source": [
    "(np.sum(valpreds*val[:,-1].reshape(-1,1)))/len(val[val[:,-1]==1,])"
   ]
  },
  {
   "cell_type": "code",
   "execution_count": 500,
   "metadata": {},
   "outputs": [
    {
     "data": {
      "text/plain": [
       "2.0"
      ]
     },
     "execution_count": 500,
     "metadata": {},
     "output_type": "execute_result"
    }
   ],
   "source": [
    "len(val[val[:,-1]==1,]) - (np.sum(valpreds*val[:,-1].reshape(-1,1)))"
   ]
  },
  {
   "cell_type": "markdown",
   "metadata": {},
   "source": [
    "# Start of Testing"
   ]
  },
  {
   "cell_type": "code",
   "execution_count": 479,
   "metadata": {},
   "outputs": [],
   "source": [
    "newDtest = np.empty((len(test[:,:-1]),k))\n",
    "for i in range(0,k):\n",
    "    newDtest[:,i] = np.array(res(test[:,:-1], M[i,], sigma[:,:,i], Pi[i]), dtype = float)\n",
    "predYgmmtest = (np.sum(newDtest, axis = 1)<3e-18).astype(int)"
   ]
  },
  {
   "cell_type": "code",
   "execution_count": 480,
   "metadata": {},
   "outputs": [],
   "source": [
    "Dknntest = np.empty((len(test[:,:-1]),len(train[:,:-1])))\n",
    "for i in range(len(test[:,:-1])):\n",
    "    Dknntest[i,] = dist(train[:,:-1],test[i,:-1])\n",
    "prednumtest = np.argsort(Dknntest, axis = 1)[:,0:3]\n",
    "Ytrain = train[:,-1]\n",
    "yknnvotestest = Ytrain[prednumtest]\n",
    "predYknntest = yknnvotestest\n",
    "predYknntest = []\n",
    "for i in range(len(yknnvotestest)):\n",
    "    uniques, counts = np.unique(yknnvotestest[i], return_counts = True)\n",
    "    newcounts = counts[np.argsort(counts)]\n",
    "    newercounts = (newcounts == np.max(newcounts))\n",
    "    num = np.sum(newercounts).astype(int)\n",
    "    index = np.random.randint(0,num)\n",
    "    predYknntest.append(uniques[np.argsort(counts)[-num]])"
   ]
  },
  {
   "cell_type": "code",
   "execution_count": 481,
   "metadata": {},
   "outputs": [],
   "source": [
    "newdisttest = []\n",
    "for i in range(len(Dknntest)):\n",
    "    subDtest = Dknntest[i,np.argsort(Dknntest[i,])[0:9]]\n",
    "    newdisttest.append(np.sum(subDtest))\n",
    "predYdisttest = np.array(newdisttest) > 847"
   ]
  },
  {
   "cell_type": "code",
   "execution_count": 482,
   "metadata": {},
   "outputs": [],
   "source": [
    "annmodel.predict((test[:,:-1]-trainmin)/(trainmax - trainmin), p = 1)\n",
    "annpredictions = annmodel.prediction"
   ]
  },
  {
   "cell_type": "code",
   "execution_count": 483,
   "metadata": {},
   "outputs": [],
   "source": [
    "testVotes = np.column_stack((predYdisttest,predYgmmtest,predYknntest,annpredictions))"
   ]
  },
  {
   "cell_type": "code",
   "execution_count": 484,
   "metadata": {},
   "outputs": [],
   "source": [
    "testpredictions = ensemble.predict(testVotes, p = 1)"
   ]
  },
  {
   "cell_type": "code",
   "execution_count": 485,
   "metadata": {},
   "outputs": [
    {
     "data": {
      "text/plain": [
       "array([[0.],\n",
       "       [0.],\n",
       "       [0.],\n",
       "       ...,\n",
       "       [0.],\n",
       "       [1.],\n",
       "       [0.]])"
      ]
     },
     "execution_count": 485,
     "metadata": {},
     "output_type": "execute_result"
    }
   ],
   "source": [
    "testpredictions = ensemble.prediction\n",
    "testpredictions"
   ]
  },
  {
   "cell_type": "code",
   "execution_count": null,
   "metadata": {},
   "outputs": [],
   "source": []
  },
  {
   "cell_type": "markdown",
   "metadata": {},
   "source": [
    "# How well did I Do?"
   ]
  },
  {
   "cell_type": "markdown",
   "metadata": {},
   "source": [
    "## Total Miss-classified in the test set."
   ]
  },
  {
   "cell_type": "code",
   "execution_count": 486,
   "metadata": {},
   "outputs": [
    {
     "data": {
      "text/plain": [
       "9"
      ]
     },
     "execution_count": 486,
     "metadata": {},
     "output_type": "execute_result"
    }
   ],
   "source": [
    "(np.sum(testpredictions != test[:,-1].reshape(-1,1)))"
   ]
  },
  {
   "cell_type": "markdown",
   "metadata": {},
   "source": [
    "## Accuracy"
   ]
  },
  {
   "cell_type": "code",
   "execution_count": 487,
   "metadata": {},
   "outputs": [
    {
     "data": {
      "text/plain": [
       "0.9987780040733197"
      ]
     },
     "execution_count": 487,
     "metadata": {},
     "output_type": "execute_result"
    }
   ],
   "source": [
    "(np.sum(testpredictions == test[:,-1].reshape(-1,1)))/len(test)"
   ]
  },
  {
   "cell_type": "markdown",
   "metadata": {},
   "source": [
    "## Recall"
   ]
  },
  {
   "cell_type": "code",
   "execution_count": 504,
   "metadata": {},
   "outputs": [
    {
     "data": {
      "text/plain": [
       "0.9980842911877394"
      ]
     },
     "execution_count": 504,
     "metadata": {},
     "output_type": "execute_result"
    }
   ],
   "source": [
    "(np.sum(testpredictions*test[:,-1].reshape(-1,1)))/len(test[test[:,-1]==1,])"
   ]
  },
  {
   "cell_type": "markdown",
   "metadata": {},
   "source": [
    "## Misclassified outliers"
   ]
  },
  {
   "cell_type": "code",
   "execution_count": 492,
   "metadata": {},
   "outputs": [
    {
     "data": {
      "text/plain": [
       "1.0"
      ]
     },
     "execution_count": 492,
     "metadata": {},
     "output_type": "execute_result"
    }
   ],
   "source": [
    "len(test[test[:,-1]==1,]) - (np.sum(testpredictions*test[:,-1].reshape(-1,1)))"
   ]
  }
 ],
 "metadata": {
  "kernelspec": {
   "display_name": "Python 3",
   "language": "python",
   "name": "python3"
  },
  "language_info": {
   "codemirror_mode": {
    "name": "ipython",
    "version": 3
   },
   "file_extension": ".py",
   "mimetype": "text/x-python",
   "name": "python",
   "nbconvert_exporter": "python",
   "pygments_lexer": "ipython3",
   "version": "3.7.1"
  }
 },
 "nbformat": 4,
 "nbformat_minor": 2
}
