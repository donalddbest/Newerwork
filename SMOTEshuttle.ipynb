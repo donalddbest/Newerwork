{
 "cells": [
  {
   "cell_type": "code",
   "execution_count": 2,
   "metadata": {},
   "outputs": [],
   "source": [
    "import numpy as np\n",
    "import matplotlib.pyplot as plt\n",
    "import scipy.io as io\n",
    "from MyML import *"
   ]
  },
  {
   "cell_type": "code",
   "execution_count": 12,
   "metadata": {},
   "outputs": [],
   "source": [
    "def dist(a,b):\n",
    "    return np.sum((a-b)**2, axis  = 1)"
   ]
  },
  {
   "cell_type": "code",
   "execution_count": 3,
   "metadata": {},
   "outputs": [],
   "source": [
    "full = io.loadmat('shuttle.mat')\n",
    "def TVTsplit(matrix, train = .7):\n",
    "    #     This function's purpose is to split a given matrix\n",
    "    #     into three parts: train, test, and validate. The \n",
    "    #     train parameter is the percentage of the data that\n",
    "    #     goes into training 70% by default. The val parameter\n",
    "    #     determines how much goes into the validation set\n",
    "    #     15% by default. The rest of the data goes into\n",
    "    #     the test set.\n",
    "    \n",
    "#     The following is needed to perform the operations\n",
    "#     in the calculations in here.\n",
    "    import numpy as np\n",
    "    # The following does some common sense things like\n",
    "    # telling you that train and val need to add up to less\n",
    "    # than 1.\n",
    "\n",
    "    if(train > .99):\n",
    "        print(\"Splitting failed. Please make sure that train is less than .99 so that test and val have enough data.\")\n",
    "        return 0\n",
    "    \n",
    "#     These two things calculate the subset lengths that \n",
    "#     are needed for the subsetting.\n",
    "    splitnum = int(len(matrix[:,0])*train)\n",
    "    splitnum2 = int((len(matrix[:,0]) - splitnum)/2)\n",
    "#     np.random.shuffle(matrix)\n",
    "\n",
    "#     The next three separate the data into the three sets\n",
    "#     using the splitnums from above.\n",
    "    Train = matrix[0:splitnum,]\n",
    "    Test = matrix[splitnum:(splitnum+splitnum2),]\n",
    "    Val = matrix[(splitnum+splitnum2):,]\n",
    "    return Train, Val, Test\n",
    "fullX = np.array(full['X'], dtype = float)\n",
    "fullY = full['y']\n",
    "train,val, test = TVTsplit(np.column_stack((fullX,fullY)))"
   ]
  },
  {
   "cell_type": "code",
   "execution_count": 6,
   "metadata": {},
   "outputs": [],
   "source": [
    "Xtrainones = train[np.where(train[:,-1] == 1)[0],:-1]\n",
    "Ytrainones = train[np.where(train[:,-1] == 1)[0],-1]"
   ]
  },
  {
   "cell_type": "code",
   "execution_count": 9,
   "metadata": {},
   "outputs": [
    {
     "data": {
      "text/plain": [
       "2475"
      ]
     },
     "execution_count": 9,
     "metadata": {},
     "output_type": "execute_result"
    }
   ],
   "source": [
    "len(Xtrainones)"
   ]
  },
  {
   "cell_type": "code",
   "execution_count": 10,
   "metadata": {},
   "outputs": [
    {
     "data": {
      "text/plain": [
       "34367"
      ]
     },
     "execution_count": 10,
     "metadata": {},
     "output_type": "execute_result"
    }
   ],
   "source": [
    "len(train)"
   ]
  },
  {
   "cell_type": "code",
   "execution_count": 22,
   "metadata": {},
   "outputs": [],
   "source": [
    "newX = Xtrainones"
   ]
  },
  {
   "cell_type": "code",
   "execution_count": 132,
   "metadata": {},
   "outputs": [],
   "source": [
    "D = np.empty((len(newX),len(newX)))\n",
    "for i in range(len(newX)):\n",
    "    D[i,] = dist(newX,newX[i])\n",
    "prednum = np.argsort(D, axis = 1)[:,1:2]"
   ]
  },
  {
   "cell_type": "code",
   "execution_count": 133,
   "metadata": {},
   "outputs": [],
   "source": [
    "outX = newX.copy()"
   ]
  },
  {
   "cell_type": "code",
   "execution_count": 134,
   "metadata": {},
   "outputs": [],
   "source": [
    "for i in range(len(prednum)):\n",
    "    oldpoint = newX[i]\n",
    "    r = newX[prednum[i]]\n",
    "    for j in range(len(r)):\n",
    "        newpoint = oldpoint + np.random.uniform(low = 0,high = 1, size = 1)*(r[j,] - oldpoint)\n",
    "        outX = np.row_stack((outX,newpoint))"
   ]
  },
  {
   "cell_type": "code",
   "execution_count": 135,
   "metadata": {},
   "outputs": [
    {
     "data": {
      "text/plain": [
       "4950"
      ]
     },
     "execution_count": 135,
     "metadata": {},
     "output_type": "execute_result"
    }
   ],
   "source": [
    "len(outX)"
   ]
  },
  {
   "cell_type": "code",
   "execution_count": 136,
   "metadata": {},
   "outputs": [],
   "source": [
    "Xtrainzeros = train[np.where(train[:,-1] == 0)[0],:-1]"
   ]
  },
  {
   "cell_type": "code",
   "execution_count": 137,
   "metadata": {},
   "outputs": [],
   "source": [
    "Xtrain = np.row_stack((Xtrainones,Xtrainzeros))"
   ]
  },
  {
   "cell_type": "code",
   "execution_count": 138,
   "metadata": {},
   "outputs": [],
   "source": [
    "Ytrain = np.row_stack((np.ones((len(Xtrainones),1)),np.zeros((len(Xtrainzeros),1))))"
   ]
  },
  {
   "cell_type": "code",
   "execution_count": 139,
   "metadata": {},
   "outputs": [],
   "source": [
    "mins = np.min(Xtrain, axis = 0)\n",
    "maxs = np.max(Xtrain, axis = 0)\n",
    "normXtrain = (Xtrain-mins)/(maxs - mins)"
   ]
  },
  {
   "cell_type": "code",
   "execution_count": 168,
   "metadata": {},
   "outputs": [],
   "source": [
    "model = NeuralNetwork(indims = 9, nodes = [1], activations = [])"
   ]
  },
  {
   "cell_type": "code",
   "execution_count": 169,
   "metadata": {},
   "outputs": [
    {
     "data": {
      "image/png": "[encoded data removed]",
      "text/plain": [
       "<Figure size 432x288 with 1 Axes>"
      ]
     },
     "metadata": {
      "needs_background": "light"
     },
     "output_type": "display_data"
    }
   ],
   "source": [
    "model.train(normXtrain, Ytrain, normXval,Yval.reshape(-1,1), optim = 'adam', epochs = 2000, lr = .01)"
   ]
  },
  {
   "cell_type": "code",
   "execution_count": 170,
   "metadata": {},
   "outputs": [],
   "source": [
    "Xval = val[:,:-1]\n",
    "Yval = val[:,-1]\n",
    "Xtest = test[:,:-1]\n",
    "Ytest = test[:,-1]"
   ]
  },
  {
   "cell_type": "code",
   "execution_count": 171,
   "metadata": {},
   "outputs": [],
   "source": [
    "normXval = (Xval - mins)/(maxs - mins)\n",
    "normXtest = (Xtest  - mins)/(maxs - mins)"
   ]
  },
  {
   "cell_type": "markdown",
   "metadata": {},
   "source": [
    "# Validation accuracy"
   ]
  },
  {
   "cell_type": "code",
   "execution_count": 172,
   "metadata": {},
   "outputs": [],
   "source": [
    "model.predict(normXval, p = 1)\n",
    "valpreds = model.prediction"
   ]
  },
  {
   "cell_type": "code",
   "execution_count": 173,
   "metadata": {},
   "outputs": [
    {
     "data": {
      "text/plain": [
       "0.9961982348947725"
      ]
     },
     "execution_count": 173,
     "metadata": {},
     "output_type": "execute_result"
    }
   ],
   "source": [
    "np.mean(valpreds == Yval.reshape(-1,1))"
   ]
  },
  {
   "cell_type": "markdown",
   "metadata": {},
   "source": [
    "# Test Accuracy"
   ]
  },
  {
   "cell_type": "code",
   "execution_count": 174,
   "metadata": {},
   "outputs": [],
   "source": [
    "model.predict(normXtest, p = 1)\n",
    "testpreds = model.prediction"
   ]
  },
  {
   "cell_type": "code",
   "execution_count": 175,
   "metadata": {},
   "outputs": [
    {
     "data": {
      "text/plain": [
       "0.9970128988458927"
      ]
     },
     "execution_count": 175,
     "metadata": {},
     "output_type": "execute_result"
    }
   ],
   "source": [
    "np.mean(testpreds == Ytest.reshape(-1,1))"
   ]
  },
  {
   "cell_type": "code",
   "execution_count": 176,
   "metadata": {},
   "outputs": [
    {
     "data": {
      "text/plain": [
       "0.9578544061302682"
      ]
     },
     "execution_count": 176,
     "metadata": {},
     "output_type": "execute_result"
    }
   ],
   "source": [
    "np.sum(testpreds*Ytest.reshape(-1,1))/np.sum(Ytest.reshape(-1,1) == 1)"
   ]
  }
 ],
 "metadata": {
  "kernelspec": {
   "display_name": "Python 3",
   "language": "python",
   "name": "python3"
  },
  "language_info": {
   "codemirror_mode": {
    "name": "ipython",
    "version": 3
   },
   "file_extension": ".py",
   "mimetype": "text/x-python",
   "name": "python",
   "nbconvert_exporter": "python",
   "pygments_lexer": "ipython3",
   "version": "3.7.1"
  }
 },
 "nbformat": 4,
 "nbformat_minor": 2
}
