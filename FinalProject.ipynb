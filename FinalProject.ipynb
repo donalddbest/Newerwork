{
 "cells": [
  {
   "cell_type": "markdown",
   "metadata": {},
   "source": [
    "# This notebook's goal is to detect fraud in credit card transactions using a Kaggle dataset."
   ]
  },
  {
   "cell_type": "code",
   "execution_count": 1,
   "metadata": {},
   "outputs": [],
   "source": [
    "import pandas as pd\n",
    "import numpy as np\n",
    "from MyML import *"
   ]
  },
  {
   "cell_type": "code",
   "execution_count": 2,
   "metadata": {},
   "outputs": [],
   "source": [
    "data = pd.read_csv('creditcard.csv').values"
   ]
  },
  {
   "cell_type": "code",
   "execution_count": 3,
   "metadata": {},
   "outputs": [],
   "source": [
    "def TVTsplit(matrix, train = .7):\n",
    "    #     This function's purpose is to split a given matrix\n",
    "    #     into three parts: train, test, and validate. The \n",
    "    #     train parameter is the percentage of the data that\n",
    "    #     goes into training 70% by default. The val parameter\n",
    "    #     determines how much goes into the validation set\n",
    "    #     15% by default. The rest of the data goes into\n",
    "    #     the test set.\n",
    "    \n",
    "#     The following is needed to perform the operations\n",
    "#     in the calculations in here.\n",
    "    import numpy as np\n",
    "    # The following does some common sense things like\n",
    "    # telling you that train and val need to add up to less\n",
    "    # than 1.\n",
    "\n",
    "    if(train > .99):\n",
    "        print(\"Splitting failed. Please make sure that train is less than .99 so that test and val have enough data.\")\n",
    "        return 0\n",
    "    \n",
    "#     These two things calculate the subset lengths that \n",
    "#     are needed for the subsetting.\n",
    "    splitnum = int(len(matrix[:,0])*train)\n",
    "    splitnum2 = int((len(matrix[:,0]) - splitnum)/2)\n",
    "#     np.random.shuffle(matrix)\n",
    "\n",
    "#     The next three separate the data into the three sets\n",
    "#     using the splitnums from above.\n",
    "    Train = matrix[0:splitnum,]\n",
    "    Test = matrix[splitnum:(splitnum+splitnum2),]\n",
    "    Val = matrix[(splitnum+splitnum2):,]\n",
    "    return Train, Val, Test"
   ]
  },
  {
   "cell_type": "code",
   "execution_count": 4,
   "metadata": {},
   "outputs": [],
   "source": [
    "train, val, test = TVTsplit(data)"
   ]
  },
  {
   "cell_type": "code",
   "execution_count": 5,
   "metadata": {},
   "outputs": [],
   "source": [
    "Xtrain = train[:,:-1]\n",
    "Ytrain = train[:,-1].reshape(-1,1)\n",
    "Xval = val[:,:-1]\n",
    "Yval = val[:,-1].reshape(-1,1)\n",
    "Xtest = test[:,:-1]\n",
    "Ytest = test[:,-1].reshape(-1,1)"
   ]
  },
  {
   "cell_type": "code",
   "execution_count": 6,
   "metadata": {},
   "outputs": [],
   "source": [
    "mins = np.min(Xtrain, axis = 0)\n",
    "maxs = np.max(Xtrain, axis = 0)"
   ]
  },
  {
   "cell_type": "code",
   "execution_count": 7,
   "metadata": {},
   "outputs": [],
   "source": [
    "Xtrain = (Xtrain - mins)/(maxs - mins)\n",
    "Xval = (Xval - mins)/(maxs - mins)\n",
    "Xtest = (Xtest - mins)/(maxs - mins)"
   ]
  },
  {
   "cell_type": "code",
   "execution_count": 8,
   "metadata": {},
   "outputs": [],
   "source": [
    "Xtrainnot = Xtrain[np.where(Ytrain == 0)[0],]\n",
    "Ytrainnot = Ytrain[np.where(Ytrain == 0)[0],]\n",
    "Xtrainfraud = Xtrain[np.where(Ytrain == 1)[0],]\n",
    "Ytrainfraud = Ytrain[np.where(Ytrain == 1)[0],]"
   ]
  },
  {
   "cell_type": "markdown",
   "metadata": {},
   "source": [
    "# The following trains 20 neural networks so that I can ensemble them together."
   ]
  },
  {
   "cell_type": "code",
   "execution_count": 91,
   "metadata": {},
   "outputs": [
    {
     "name": "stdout",
     "output_type": "stream",
     "text": [
      "0\n",
      "1\n",
      "2\n",
      "3\n",
      "4\n",
      "5\n",
      "6\n",
      "7\n",
      "8\n",
      "9\n",
      "10\n",
      "11\n",
      "12\n",
      "13\n",
      "14\n",
      "15\n",
      "16\n",
      "17\n",
      "18\n",
      "19\n"
     ]
    },
    {
     "data": {
      "image/png": "[encoded data removed]",
      "text/plain": [
       "<Figure size 432x288 with 1 Axes>"
      ]
     },
     "metadata": {
      "needs_background": "light"
     },
     "output_type": "display_data"
    }
   ],
   "source": [
    "models = {}\n",
    "errs = []\n",
    "for i in range(20):\n",
    "    print(i)\n",
    "    choicenot = np.random.choice(list(range(len(Xtrainnot))),size = 3000,replace = True)\n",
    "    Xtrain1 = Xtrainnot[choicenot,]\n",
    "    Ytrain1 = Ytrainnot[choicenot,]\n",
    "    choicefraud = np.random.choice(list(range(len(Xtrainfraud))),size = 500,replace = True)\n",
    "    Xtrain2 = Xtrainfraud[choicefraud,]\n",
    "    Ytrain2 = Ytrainfraud[choicefraud,]\n",
    "    newX = np.row_stack((Xtrain1,Xtrain2))\n",
    "    newY = np.row_stack((Ytrain1,Ytrain2))\n",
    "    model = NeuralNetwork(indims = Xtrain.shape[1], nodes = [20,20,20,1], activations = ['relu','relu','relu'], taskType = 'c')\n",
    "    model.train(newX,newY, optim = 'adam', lr = .001, epochs = 1000)\n",
    "    models[str(i)] = model"
   ]
  },
  {
   "cell_type": "code",
   "execution_count": 142,
   "metadata": {},
   "outputs": [],
   "source": [
    "trainpredictions = np.empty((len(Xtrain),20))\n",
    "valpredictions = np.empty((len(Xval),20))\n",
    "testpredictions = np.empty((len(Xtest), 20))\n",
    "for i in range(20):\n",
    "    models[str(i)].predict(Xtrain,p = 1)\n",
    "    trainpredictions[:,i] = models[str(i)].prediction.T[0].tolist()\n",
    "    models[str(i)].predict(Xval,p = 1)\n",
    "    valpredictions[:,i] = models[str(i)].prediction.T[0].tolist()\n",
    "    models[str(i)].predict(Xtest,p = 1)\n",
    "    testpredictions[:,i] = models[str(i)].prediction.T[0].tolist()"
   ]
  },
  {
   "cell_type": "code",
   "execution_count": 135,
   "metadata": {},
   "outputs": [],
   "source": [
    "ensemble = NeuralNetwork(indims = 20, nodes = [10,10,10,1], activations = ['relu','relu','relu'])"
   ]
  },
  {
   "cell_type": "code",
   "execution_count": 136,
   "metadata": {},
   "outputs": [
    {
     "ename": "KeyboardInterrupt",
     "evalue": "",
     "output_type": "error",
     "traceback": [
      "\u001b[0;31m---------------------------------------------------------------------------\u001b[0m",
      "\u001b[0;31mKeyboardInterrupt\u001b[0m                         Traceback (most recent call last)",
      "\u001b[0;32m<ipython-input-136-b8468dc5a8b6>\u001b[0m in \u001b[0;36m<module>\u001b[0;34m\u001b[0m\n\u001b[0;32m----> 1\u001b[0;31m \u001b[0mensemble\u001b[0m\u001b[0;34m.\u001b[0m\u001b[0mtrain\u001b[0m\u001b[0;34m(\u001b[0m\u001b[0mtrainpredictions\u001b[0m\u001b[0;34m,\u001b[0m\u001b[0mYtrain\u001b[0m\u001b[0;34m,\u001b[0m\u001b[0mvalpredictions\u001b[0m\u001b[0;34m,\u001b[0m\u001b[0mYval\u001b[0m\u001b[0;34m,\u001b[0m \u001b[0moptim\u001b[0m \u001b[0;34m=\u001b[0m \u001b[0;34m'adam'\u001b[0m\u001b[0;34m,\u001b[0m \u001b[0mlr\u001b[0m \u001b[0;34m=\u001b[0m \u001b[0;36m.001\u001b[0m\u001b[0;34m,\u001b[0m \u001b[0mepochs\u001b[0m \u001b[0;34m=\u001b[0m \u001b[0;36m1000\u001b[0m\u001b[0;34m)\u001b[0m\u001b[0;34m\u001b[0m\u001b[0;34m\u001b[0m\u001b[0m\n\u001b[0m",
      "\u001b[0;32m~/DataScienceTraining/MyML/MyTorch.py\u001b[0m in \u001b[0;36mtrain\u001b[0;34m(self, X, Y, Xval, Yval, epochs, lr, gamma, l1, l2, moment, p, batchsize, decay, k, T, optim)\u001b[0m\n\u001b[1;32m    890\u001b[0m                         \u001b[0;32mfor\u001b[0m \u001b[0mi\u001b[0m \u001b[0;32min\u001b[0m \u001b[0mrange\u001b[0m\u001b[0;34m(\u001b[0m\u001b[0;36m0\u001b[0m\u001b[0;34m,\u001b[0m\u001b[0mepochs\u001b[0m\u001b[0;34m)\u001b[0m\u001b[0;34m:\u001b[0m\u001b[0;34m\u001b[0m\u001b[0;34m\u001b[0m\u001b[0m\n\u001b[1;32m    891\u001b[0m                                 \u001b[0mself\u001b[0m\u001b[0;34m.\u001b[0m\u001b[0mt\u001b[0m \u001b[0;34m=\u001b[0m \u001b[0mi\u001b[0m\u001b[0;34m+\u001b[0m\u001b[0;36m1\u001b[0m\u001b[0;34m\u001b[0m\u001b[0;34m\u001b[0m\u001b[0m\n\u001b[0;32m--> 892\u001b[0;31m                                 \u001b[0mphat\u001b[0m \u001b[0;34m=\u001b[0m \u001b[0mself\u001b[0m\u001b[0;34m.\u001b[0m\u001b[0mdrop_predict\u001b[0m\u001b[0;34m(\u001b[0m\u001b[0mX\u001b[0m\u001b[0;34m,\u001b[0m \u001b[0mself\u001b[0m\u001b[0;34m.\u001b[0m\u001b[0mp\u001b[0m\u001b[0;34m)\u001b[0m\u001b[0;34m\u001b[0m\u001b[0;34m\u001b[0m\u001b[0m\n\u001b[0m\u001b[1;32m    893\u001b[0m                                 \u001b[0mself\u001b[0m\u001b[0;34m.\u001b[0m\u001b[0mbackProp\u001b[0m\u001b[0;34m(\u001b[0m\u001b[0mY\u001b[0m\u001b[0;34m,\u001b[0m \u001b[0mlr\u001b[0m\u001b[0;34m,\u001b[0m \u001b[0mself\u001b[0m\u001b[0;34m.\u001b[0m\u001b[0mt\u001b[0m\u001b[0;34m)\u001b[0m\u001b[0;34m\u001b[0m\u001b[0;34m\u001b[0m\u001b[0m\n\u001b[1;32m    894\u001b[0m                                 \u001b[0mself\u001b[0m\u001b[0;34m.\u001b[0m\u001b[0merrs\u001b[0m\u001b[0;34m.\u001b[0m\u001b[0mappend\u001b[0m\u001b[0;34m(\u001b[0m\u001b[0mself\u001b[0m\u001b[0;34m.\u001b[0m\u001b[0mcostfunc\u001b[0m\u001b[0;34m(\u001b[0m\u001b[0mYval\u001b[0m\u001b[0;34m,\u001b[0m\u001b[0mself\u001b[0m\u001b[0;34m.\u001b[0m\u001b[0mpredict\u001b[0m\u001b[0;34m(\u001b[0m\u001b[0mXval\u001b[0m\u001b[0;34m,\u001b[0m \u001b[0mp\u001b[0m\u001b[0;34m=\u001b[0m\u001b[0;36m1\u001b[0m\u001b[0;34m)\u001b[0m\u001b[0;34m)\u001b[0m\u001b[0;34m)\u001b[0m\u001b[0;34m\u001b[0m\u001b[0;34m\u001b[0m\u001b[0m\n",
      "\u001b[0;32m~/DataScienceTraining/MyML/MyTorch.py\u001b[0m in \u001b[0;36mdrop_predict\u001b[0;34m(self, X, p)\u001b[0m\n\u001b[1;32m    830\u001b[0m                 \u001b[0;32melse\u001b[0m\u001b[0;34m:\u001b[0m\u001b[0;34m\u001b[0m\u001b[0;34m\u001b[0m\u001b[0m\n\u001b[1;32m    831\u001b[0m                         \u001b[0;32mfor\u001b[0m \u001b[0mi\u001b[0m \u001b[0;32min\u001b[0m \u001b[0mrange\u001b[0m\u001b[0;34m(\u001b[0m\u001b[0;36m0\u001b[0m\u001b[0;34m,\u001b[0m\u001b[0mlen\u001b[0m\u001b[0;34m(\u001b[0m\u001b[0mself\u001b[0m\u001b[0;34m.\u001b[0m\u001b[0mlayers\u001b[0m\u001b[0;34m)\u001b[0m\u001b[0;34m)\u001b[0m\u001b[0;34m:\u001b[0m\u001b[0;34m\u001b[0m\u001b[0;34m\u001b[0m\u001b[0m\n\u001b[0;32m--> 832\u001b[0;31m                                 \u001b[0mtemp\u001b[0m \u001b[0;34m=\u001b[0m \u001b[0mself\u001b[0m\u001b[0;34m.\u001b[0m\u001b[0mlayers\u001b[0m\u001b[0;34m[\u001b[0m\u001b[0mi\u001b[0m\u001b[0;34m]\u001b[0m\u001b[0;34m.\u001b[0m\u001b[0mforward\u001b[0m\u001b[0;34m(\u001b[0m\u001b[0mtemp\u001b[0m\u001b[0;34m,\u001b[0m \u001b[0mp\u001b[0m\u001b[0;34m)\u001b[0m\u001b[0;34m\u001b[0m\u001b[0;34m\u001b[0m\u001b[0m\n\u001b[0m\u001b[1;32m    833\u001b[0m                 \u001b[0mself\u001b[0m\u001b[0;34m.\u001b[0m\u001b[0mprobabilities\u001b[0m \u001b[0;34m=\u001b[0m \u001b[0mtemp\u001b[0m\u001b[0;34m\u001b[0m\u001b[0;34m\u001b[0m\u001b[0m\n\u001b[1;32m    834\u001b[0m                 \u001b[0;32mif\u001b[0m \u001b[0mself\u001b[0m\u001b[0;34m.\u001b[0m\u001b[0mtask\u001b[0m \u001b[0;34m==\u001b[0m \u001b[0;34m'r'\u001b[0m\u001b[0;34m:\u001b[0m\u001b[0;34m\u001b[0m\u001b[0;34m\u001b[0m\u001b[0m\n",
      "\u001b[0;32m~/DataScienceTraining/MyML/MyTorch.py\u001b[0m in \u001b[0;36mforward\u001b[0;34m(self, A, p)\u001b[0m\n\u001b[1;32m    346\u001b[0m                 \u001b[0mself\u001b[0m\u001b[0;34m.\u001b[0m\u001b[0mmb\u001b[0m \u001b[0;34m=\u001b[0m \u001b[0mnp\u001b[0m\u001b[0;34m.\u001b[0m\u001b[0mzeros\u001b[0m\u001b[0;34m(\u001b[0m\u001b[0;34m(\u001b[0m\u001b[0;36m1\u001b[0m\u001b[0;34m,\u001b[0m\u001b[0mself\u001b[0m\u001b[0;34m.\u001b[0m\u001b[0moutputs\u001b[0m\u001b[0;34m)\u001b[0m\u001b[0;34m)\u001b[0m\u001b[0;34m\u001b[0m\u001b[0;34m\u001b[0m\u001b[0m\n\u001b[1;32m    347\u001b[0m         \u001b[0;32mdef\u001b[0m \u001b[0mforward\u001b[0m\u001b[0;34m(\u001b[0m\u001b[0mself\u001b[0m\u001b[0;34m,\u001b[0m \u001b[0mA\u001b[0m\u001b[0;34m,\u001b[0m \u001b[0mp\u001b[0m \u001b[0;34m=\u001b[0m \u001b[0;36m1\u001b[0m\u001b[0;34m)\u001b[0m\u001b[0;34m:\u001b[0m\u001b[0;34m\u001b[0m\u001b[0;34m\u001b[0m\u001b[0m\n\u001b[0;32m--> 348\u001b[0;31m                 \u001b[0mself\u001b[0m\u001b[0;34m.\u001b[0m\u001b[0mA\u001b[0m \u001b[0;34m=\u001b[0m \u001b[0mA\u001b[0m\u001b[0;34m*\u001b[0m\u001b[0;34m(\u001b[0m\u001b[0mnp\u001b[0m\u001b[0;34m.\u001b[0m\u001b[0mrandom\u001b[0m\u001b[0;34m.\u001b[0m\u001b[0mrand\u001b[0m\u001b[0;34m(\u001b[0m\u001b[0mA\u001b[0m\u001b[0;34m.\u001b[0m\u001b[0mshape\u001b[0m\u001b[0;34m[\u001b[0m\u001b[0;36m0\u001b[0m\u001b[0;34m]\u001b[0m\u001b[0;34m,\u001b[0m \u001b[0mA\u001b[0m\u001b[0;34m.\u001b[0m\u001b[0mshape\u001b[0m\u001b[0;34m[\u001b[0m\u001b[0;36m1\u001b[0m\u001b[0;34m]\u001b[0m\u001b[0;34m)\u001b[0m\u001b[0;34m<\u001b[0m\u001b[0mp\u001b[0m\u001b[0;34m)\u001b[0m\u001b[0;34m/\u001b[0m\u001b[0mp\u001b[0m\u001b[0;34m\u001b[0m\u001b[0;34m\u001b[0m\u001b[0m\n\u001b[0m\u001b[1;32m    349\u001b[0m                 \u001b[0mself\u001b[0m\u001b[0;34m.\u001b[0m\u001b[0mG\u001b[0m \u001b[0;34m=\u001b[0m \u001b[0mA\u001b[0m\u001b[0;34m@\u001b[0m\u001b[0mself\u001b[0m\u001b[0;34m.\u001b[0m\u001b[0mweights\u001b[0m\u001b[0;34m\u001b[0m\u001b[0;34m\u001b[0m\u001b[0m\n\u001b[1;32m    350\u001b[0m                 \u001b[0mself\u001b[0m\u001b[0;34m.\u001b[0m\u001b[0mH\u001b[0m \u001b[0;34m=\u001b[0m \u001b[0mself\u001b[0m\u001b[0;34m.\u001b[0m\u001b[0mG\u001b[0m\u001b[0;34m+\u001b[0m\u001b[0mself\u001b[0m\u001b[0;34m.\u001b[0m\u001b[0mbiases\u001b[0m\u001b[0;34m\u001b[0m\u001b[0;34m\u001b[0m\u001b[0m\n",
      "\u001b[0;31mKeyboardInterrupt\u001b[0m: "
     ]
    }
   ],
   "source": [
    "ensemble.train(trainpredictions,Ytrain,valpredictions,Yval, optim = 'adam', lr = .001, epochs = 1000)"
   ]
  },
  {
   "cell_type": "code",
   "execution_count": 138,
   "metadata": {},
   "outputs": [
    {
     "data": {
      "text/plain": [
       "29.0"
      ]
     },
     "execution_count": 138,
     "metadata": {},
     "output_type": "execute_result"
    }
   ],
   "source": [
    "np.sum(ensemble.prediction*Yval)"
   ]
  },
  {
   "cell_type": "code",
   "execution_count": 141,
   "metadata": {
    "scrolled": true
   },
   "outputs": [
    {
     "data": {
      "text/plain": [
       "[<matplotlib.lines.Line2D at 0x7f9d54e9fc88>]"
      ]
     },
     "execution_count": 141,
     "metadata": {},
     "output_type": "execute_result"
    },
    {
     "data": {
      "image/png": "[encoded data removed]",
      "text/plain": [
       "<Figure size 432x288 with 1 Axes>"
      ]
     },
     "metadata": {
      "needs_background": "light"
     },
     "output_type": "display_data"
    }
   ],
   "source": [
    "plt.plot(ensemble.errs[300:])"
   ]
  },
  {
   "cell_type": "code",
   "execution_count": 144,
   "metadata": {},
   "outputs": [
    {
     "data": {
      "text/plain": [
       "array([[0.00033729],\n",
       "       [0.00033729],\n",
       "       [0.00033729],\n",
       "       ...,\n",
       "       [0.00033729],\n",
       "       [0.00033729],\n",
       "       [0.00033729]])"
      ]
     },
     "execution_count": 144,
     "metadata": {},
     "output_type": "execute_result"
    }
   ],
   "source": [
    "ensemble.predict(testpredictions, p = 1)"
   ]
  },
  {
   "cell_type": "markdown",
   "metadata": {},
   "source": [
    "# The following code is the functions required to make a decision tree from scratch."
   ]
  },
  {
   "cell_type": "code",
   "execution_count": 151,
   "metadata": {},
   "outputs": [],
   "source": [
    "def gini(groups, classes):\n",
    "    # count all samples at split point\n",
    "    n_instances = float(sum([len(group) for group in groups]))\n",
    "    # sum weighted Gini index for each group\n",
    "    gini = 0.0\n",
    "    for group in groups:\n",
    "        size = float(len(group))\n",
    "        # avoid divide by zero\n",
    "        if size == 0:\n",
    "            continue\n",
    "        score = 0.0\n",
    "        # score the group based on the score for each class\n",
    "        for class_val in classes:\n",
    "            p = [row[-1] for row in group].count(class_val) / size\n",
    "            score += p * p\n",
    "        # weight the group score by its relative size\n",
    "        gini += (1.0 - score) * (size / n_instances)\n",
    "    return gini\n",
    "def test_split(index, value, data):\n",
    "    r = np.array(data[:,index]<value, dtype = int)\n",
    "    left = data[np.where(r == 1)[0],]\n",
    "    right = data[np.where(r == 0)[0],]\n",
    "    return left, right\n",
    "def getsplit(data):\n",
    "    labels = np.unique(data[:,-1])\n",
    "    bestind, bestval, bestscore, bestgroup = 999,999,999, None\n",
    "    for i in range(data.shape[1]-1):\n",
    "        for j in range(data.shape[0]):\n",
    "            groups = test_split(i, data[j,i],data)\n",
    "            score = gini(groups, labels)\n",
    "            if score < bestscore:\n",
    "                bestind, bestval, bestscore, bestgroup = i, data[j,i], score, groups\n",
    "    return {'index':bestind,'value':bestval,'groups':bestgroup}\n",
    "def to_terminal(group):\n",
    "    outcomes = [row[-1] for row in group]\n",
    "    return max(set(outcomes), key=outcomes.count)\n",
    "def split(node, maxdepth,minsize,depth):\n",
    "    left, right  = node['groups']\n",
    "    del(node['groups'])\n",
    "    if len(left) == 0:\n",
    "        node['left'] = node['right'] = to_terminal(right)\n",
    "        return\n",
    "    if len(right) == 0:\n",
    "        node['left'] = node['right'] = to_terminal(left)\n",
    "        return\n",
    "    if depth >= maxdepth:\n",
    "        node['left'], node['right'] = to_terminal(left),to_terminal(right)\n",
    "        return\n",
    "    if len(left) <= minsize:\n",
    "        node['left'] = to_terminal(left)\n",
    "    else:\n",
    "        node['left'] = getsplit(left)\n",
    "        split(node['left'], maxdepth, minsize,depth+1)\n",
    "    if len(right) <= minsize:\n",
    "        node['right'] = to_terminal(right)\n",
    "    else:\n",
    "        node['right'] = getsplit(right)\n",
    "        split(node['right'], maxdepth, minsize,depth+1)\n",
    "def buildtree(x, maxdepth, minsize):\n",
    "    root = getsplit(x)\n",
    "    split(root, maxdepth,minsize, 1)\n",
    "    return root\n",
    "def predict(node, row):\n",
    "    if row[node['index']] < node['value']:\n",
    "        if isinstance(node['left'], dict):\n",
    "            return predict(node['left'], row)\n",
    "        else:\n",
    "            return node['left']\n",
    "    else:\n",
    "        if isinstance(node['right'], dict):\n",
    "            return predict(node['right'], row)\n",
    "        else:\n",
    "            return node['right']\n",
    "def print_tree(node, depth=0):\n",
    "    if isinstance(node, dict):\n",
    "        print('%s[X%d < %.3f]' % ((depth*' ', (node['index']+1), node['value'])))\n",
    "        print_tree(node['left'], depth+1)\n",
    "        print_tree(node['right'], depth+1)\n",
    "    else:\n",
    "        print('%s[%s]' % ((depth*' ', node)))"
   ]
  },
  {
   "cell_type": "code",
   "execution_count": 150,
   "metadata": {},
   "outputs": [
    {
     "name": "stdout",
     "output_type": "stream",
     "text": [
      "0\n",
      "1\n",
      "2\n",
      "3\n",
      "4\n",
      "5\n",
      "6\n",
      "7\n",
      "8\n"
     ]
    },
    {
     "ename": "KeyboardInterrupt",
     "evalue": "",
     "output_type": "error",
     "traceback": [
      "\u001b[0;31m---------------------------------------------------------------------------\u001b[0m",
      "\u001b[0;31mKeyboardInterrupt\u001b[0m                         Traceback (most recent call last)",
      "\u001b[0;32m<ipython-input-150-487f11a19adf>\u001b[0m in \u001b[0;36m<module>\u001b[0;34m\u001b[0m\n\u001b[1;32m     12\u001b[0m     \u001b[0mnewY\u001b[0m \u001b[0;34m=\u001b[0m \u001b[0mnp\u001b[0m\u001b[0;34m.\u001b[0m\u001b[0mrow_stack\u001b[0m\u001b[0;34m(\u001b[0m\u001b[0;34m(\u001b[0m\u001b[0mYtrain1\u001b[0m\u001b[0;34m,\u001b[0m\u001b[0mYtrain2\u001b[0m\u001b[0;34m)\u001b[0m\u001b[0;34m)\u001b[0m\u001b[0;34m\u001b[0m\u001b[0;34m\u001b[0m\u001b[0m\n\u001b[1;32m     13\u001b[0m     \u001b[0mnew\u001b[0m \u001b[0;34m=\u001b[0m \u001b[0mnp\u001b[0m\u001b[0;34m.\u001b[0m\u001b[0mcolumn_stack\u001b[0m\u001b[0;34m(\u001b[0m\u001b[0;34m(\u001b[0m\u001b[0mnewX\u001b[0m\u001b[0;34m,\u001b[0m\u001b[0mnewY\u001b[0m\u001b[0;34m)\u001b[0m\u001b[0;34m)\u001b[0m\u001b[0;34m\u001b[0m\u001b[0;34m\u001b[0m\u001b[0m\n\u001b[0;32m---> 14\u001b[0;31m     \u001b[0mtree\u001b[0m \u001b[0;34m=\u001b[0m \u001b[0mbuildtree\u001b[0m\u001b[0;34m(\u001b[0m\u001b[0mnew\u001b[0m\u001b[0;34m,\u001b[0m \u001b[0;36m3\u001b[0m\u001b[0;34m,\u001b[0m\u001b[0;36m3\u001b[0m\u001b[0;34m)\u001b[0m\u001b[0;34m\u001b[0m\u001b[0;34m\u001b[0m\u001b[0m\n\u001b[0m\u001b[1;32m     15\u001b[0m     \u001b[0mtrees\u001b[0m\u001b[0;34m[\u001b[0m\u001b[0mstr\u001b[0m\u001b[0;34m(\u001b[0m\u001b[0mi\u001b[0m\u001b[0;34m)\u001b[0m\u001b[0;34m]\u001b[0m \u001b[0;34m=\u001b[0m \u001b[0mtree\u001b[0m\u001b[0;34m\u001b[0m\u001b[0;34m\u001b[0m\u001b[0m\n",
      "\u001b[0;32m<ipython-input-148-d83d3d20d669>\u001b[0m in \u001b[0;36mbuildtree\u001b[0;34m(x, maxdepth, minsize)\u001b[0m\n\u001b[1;32m     58\u001b[0m         \u001b[0msplit\u001b[0m\u001b[0;34m(\u001b[0m\u001b[0mnode\u001b[0m\u001b[0;34m[\u001b[0m\u001b[0;34m'right'\u001b[0m\u001b[0;34m]\u001b[0m\u001b[0;34m,\u001b[0m \u001b[0mmaxdepth\u001b[0m\u001b[0;34m,\u001b[0m \u001b[0mminsize\u001b[0m\u001b[0;34m,\u001b[0m\u001b[0mdepth\u001b[0m\u001b[0;34m+\u001b[0m\u001b[0;36m1\u001b[0m\u001b[0;34m)\u001b[0m\u001b[0;34m\u001b[0m\u001b[0;34m\u001b[0m\u001b[0m\n\u001b[1;32m     59\u001b[0m \u001b[0;32mdef\u001b[0m \u001b[0mbuildtree\u001b[0m\u001b[0;34m(\u001b[0m\u001b[0mx\u001b[0m\u001b[0;34m,\u001b[0m \u001b[0mmaxdepth\u001b[0m\u001b[0;34m,\u001b[0m \u001b[0mminsize\u001b[0m\u001b[0;34m)\u001b[0m\u001b[0;34m:\u001b[0m\u001b[0;34m\u001b[0m\u001b[0;34m\u001b[0m\u001b[0m\n\u001b[0;32m---> 60\u001b[0;31m     \u001b[0mroot\u001b[0m \u001b[0;34m=\u001b[0m \u001b[0mgetsplit\u001b[0m\u001b[0;34m(\u001b[0m\u001b[0mx\u001b[0m\u001b[0;34m)\u001b[0m\u001b[0;34m\u001b[0m\u001b[0;34m\u001b[0m\u001b[0m\n\u001b[0m\u001b[1;32m     61\u001b[0m     \u001b[0msplit\u001b[0m\u001b[0;34m(\u001b[0m\u001b[0mroot\u001b[0m\u001b[0;34m,\u001b[0m \u001b[0mmaxdepth\u001b[0m\u001b[0;34m,\u001b[0m\u001b[0mminsize\u001b[0m\u001b[0;34m,\u001b[0m \u001b[0;36m1\u001b[0m\u001b[0;34m)\u001b[0m\u001b[0;34m\u001b[0m\u001b[0;34m\u001b[0m\u001b[0m\n\u001b[1;32m     62\u001b[0m     \u001b[0;32mreturn\u001b[0m \u001b[0mroot\u001b[0m\u001b[0;34m\u001b[0m\u001b[0;34m\u001b[0m\u001b[0m\n",
      "\u001b[0;32m<ipython-input-148-d83d3d20d669>\u001b[0m in \u001b[0;36mgetsplit\u001b[0;34m(data)\u001b[0m\n\u001b[1;32m     28\u001b[0m         \u001b[0;32mfor\u001b[0m \u001b[0mj\u001b[0m \u001b[0;32min\u001b[0m \u001b[0mrange\u001b[0m\u001b[0;34m(\u001b[0m\u001b[0mdata\u001b[0m\u001b[0;34m.\u001b[0m\u001b[0mshape\u001b[0m\u001b[0;34m[\u001b[0m\u001b[0;36m0\u001b[0m\u001b[0;34m]\u001b[0m\u001b[0;34m)\u001b[0m\u001b[0;34m:\u001b[0m\u001b[0;34m\u001b[0m\u001b[0;34m\u001b[0m\u001b[0m\n\u001b[1;32m     29\u001b[0m             \u001b[0mgroups\u001b[0m \u001b[0;34m=\u001b[0m \u001b[0mtest_split\u001b[0m\u001b[0;34m(\u001b[0m\u001b[0mi\u001b[0m\u001b[0;34m,\u001b[0m \u001b[0mdata\u001b[0m\u001b[0;34m[\u001b[0m\u001b[0mj\u001b[0m\u001b[0;34m,\u001b[0m\u001b[0mi\u001b[0m\u001b[0;34m]\u001b[0m\u001b[0;34m,\u001b[0m\u001b[0mdata\u001b[0m\u001b[0;34m)\u001b[0m\u001b[0;34m\u001b[0m\u001b[0;34m\u001b[0m\u001b[0m\n\u001b[0;32m---> 30\u001b[0;31m             \u001b[0mscore\u001b[0m \u001b[0;34m=\u001b[0m \u001b[0mgini\u001b[0m\u001b[0;34m(\u001b[0m\u001b[0mgroups\u001b[0m\u001b[0;34m,\u001b[0m \u001b[0mlabels\u001b[0m\u001b[0;34m)\u001b[0m\u001b[0;34m\u001b[0m\u001b[0;34m\u001b[0m\u001b[0m\n\u001b[0m\u001b[1;32m     31\u001b[0m             \u001b[0;32mif\u001b[0m \u001b[0mscore\u001b[0m \u001b[0;34m<\u001b[0m \u001b[0mbestscore\u001b[0m\u001b[0;34m:\u001b[0m\u001b[0;34m\u001b[0m\u001b[0;34m\u001b[0m\u001b[0m\n\u001b[1;32m     32\u001b[0m                 \u001b[0mbestind\u001b[0m\u001b[0;34m,\u001b[0m \u001b[0mbestval\u001b[0m\u001b[0;34m,\u001b[0m \u001b[0mbestscore\u001b[0m\u001b[0;34m,\u001b[0m \u001b[0mbestgroup\u001b[0m \u001b[0;34m=\u001b[0m \u001b[0mi\u001b[0m\u001b[0;34m,\u001b[0m \u001b[0mdata\u001b[0m\u001b[0;34m[\u001b[0m\u001b[0mj\u001b[0m\u001b[0;34m,\u001b[0m\u001b[0mi\u001b[0m\u001b[0;34m]\u001b[0m\u001b[0;34m,\u001b[0m \u001b[0mscore\u001b[0m\u001b[0;34m,\u001b[0m \u001b[0mgroups\u001b[0m\u001b[0;34m\u001b[0m\u001b[0;34m\u001b[0m\u001b[0m\n",
      "\u001b[0;32m<ipython-input-148-d83d3d20d669>\u001b[0m in \u001b[0;36mgini\u001b[0;34m(groups, classes)\u001b[0m\n\u001b[1;32m     12\u001b[0m         \u001b[0;31m# score the group based on the score for each class\u001b[0m\u001b[0;34m\u001b[0m\u001b[0;34m\u001b[0m\u001b[0;34m\u001b[0m\u001b[0m\n\u001b[1;32m     13\u001b[0m         \u001b[0;32mfor\u001b[0m \u001b[0mclass_val\u001b[0m \u001b[0;32min\u001b[0m \u001b[0mclasses\u001b[0m\u001b[0;34m:\u001b[0m\u001b[0;34m\u001b[0m\u001b[0;34m\u001b[0m\u001b[0m\n\u001b[0;32m---> 14\u001b[0;31m             \u001b[0mp\u001b[0m \u001b[0;34m=\u001b[0m \u001b[0;34m[\u001b[0m\u001b[0mrow\u001b[0m\u001b[0;34m[\u001b[0m\u001b[0;34m-\u001b[0m\u001b[0;36m1\u001b[0m\u001b[0;34m]\u001b[0m \u001b[0;32mfor\u001b[0m \u001b[0mrow\u001b[0m \u001b[0;32min\u001b[0m \u001b[0mgroup\u001b[0m\u001b[0;34m]\u001b[0m\u001b[0;34m.\u001b[0m\u001b[0mcount\u001b[0m\u001b[0;34m(\u001b[0m\u001b[0mclass_val\u001b[0m\u001b[0;34m)\u001b[0m \u001b[0;34m/\u001b[0m \u001b[0msize\u001b[0m\u001b[0;34m\u001b[0m\u001b[0;34m\u001b[0m\u001b[0m\n\u001b[0m\u001b[1;32m     15\u001b[0m             \u001b[0mscore\u001b[0m \u001b[0;34m+=\u001b[0m \u001b[0mp\u001b[0m \u001b[0;34m*\u001b[0m \u001b[0mp\u001b[0m\u001b[0;34m\u001b[0m\u001b[0;34m\u001b[0m\u001b[0m\n\u001b[1;32m     16\u001b[0m         \u001b[0;31m# weight the group score by its relative size\u001b[0m\u001b[0;34m\u001b[0m\u001b[0;34m\u001b[0m\u001b[0;34m\u001b[0m\u001b[0m\n",
      "\u001b[0;32m<ipython-input-148-d83d3d20d669>\u001b[0m in \u001b[0;36m<listcomp>\u001b[0;34m(.0)\u001b[0m\n\u001b[1;32m     12\u001b[0m         \u001b[0;31m# score the group based on the score for each class\u001b[0m\u001b[0;34m\u001b[0m\u001b[0;34m\u001b[0m\u001b[0;34m\u001b[0m\u001b[0m\n\u001b[1;32m     13\u001b[0m         \u001b[0;32mfor\u001b[0m \u001b[0mclass_val\u001b[0m \u001b[0;32min\u001b[0m \u001b[0mclasses\u001b[0m\u001b[0;34m:\u001b[0m\u001b[0;34m\u001b[0m\u001b[0;34m\u001b[0m\u001b[0m\n\u001b[0;32m---> 14\u001b[0;31m             \u001b[0mp\u001b[0m \u001b[0;34m=\u001b[0m \u001b[0;34m[\u001b[0m\u001b[0mrow\u001b[0m\u001b[0;34m[\u001b[0m\u001b[0;34m-\u001b[0m\u001b[0;36m1\u001b[0m\u001b[0;34m]\u001b[0m \u001b[0;32mfor\u001b[0m \u001b[0mrow\u001b[0m \u001b[0;32min\u001b[0m \u001b[0mgroup\u001b[0m\u001b[0;34m]\u001b[0m\u001b[0;34m.\u001b[0m\u001b[0mcount\u001b[0m\u001b[0;34m(\u001b[0m\u001b[0mclass_val\u001b[0m\u001b[0;34m)\u001b[0m \u001b[0;34m/\u001b[0m \u001b[0msize\u001b[0m\u001b[0;34m\u001b[0m\u001b[0;34m\u001b[0m\u001b[0m\n\u001b[0m\u001b[1;32m     15\u001b[0m             \u001b[0mscore\u001b[0m \u001b[0;34m+=\u001b[0m \u001b[0mp\u001b[0m \u001b[0;34m*\u001b[0m \u001b[0mp\u001b[0m\u001b[0;34m\u001b[0m\u001b[0;34m\u001b[0m\u001b[0m\n\u001b[1;32m     16\u001b[0m         \u001b[0;31m# weight the group score by its relative size\u001b[0m\u001b[0;34m\u001b[0m\u001b[0;34m\u001b[0m\u001b[0;34m\u001b[0m\u001b[0m\n",
      "\u001b[0;31mKeyboardInterrupt\u001b[0m: "
     ]
    }
   ],
   "source": [
    "trees = {}\n",
    "errs = []\n",
    "for i in range(20):\n",
    "    print(i)\n",
    "    choicenot = np.random.choice(list(range(len(Xtrainnot))),size = 3000,replace = True)\n",
    "    Xtrain1 = Xtrainnot[choicenot,]\n",
    "    Ytrain1 = Ytrainnot[choicenot,]\n",
    "    choicefraud = np.random.choice(list(range(len(Xtrainfraud))),size = 500,replace = True)\n",
    "    Xtrain2 = Xtrainfraud[choicefraud,]\n",
    "    Ytrain2 = Ytrainfraud[choicefraud,]\n",
    "    newX = np.row_stack((Xtrain1,Xtrain2))\n",
    "    newY = np.row_stack((Ytrain1,Ytrain2))\n",
    "    new = np.column_stack((newX,newY))\n",
    "    tree = buildtree(new, 3,3)\n",
    "    trees[str(i)] = tree"
   ]
  },
  {
   "cell_type": "code",
   "execution_count": 176,
   "metadata": {},
   "outputs": [],
   "source": [
    "treetrainpredictions = np.empty((len(Xtrain),8))\n",
    "treevalpredictions = np.empty((len(Xval),8))\n",
    "treetestpredictions = np.empty((len(Xtest), 8))\n",
    "for i in range(8):\n",
    "    trainpreds = []\n",
    "    for j in range(len(Xtrain)):\n",
    "        trainpreds.append(predict(trees[str(i)],train[j,]))\n",
    "    treetrainpredictions[:,i] = trainpreds\n",
    "    valpreds = []\n",
    "    for j in range(len(Xval)):\n",
    "        valpreds.append(predict(trees[str(i)],val[j,]))\n",
    "    treevalpredictions[:,i] = valpreds\n",
    "    testpreds = []\n",
    "    for j in range(len(Xtest)):\n",
    "        testpreds.append(predict(trees[str(i)],test[j,]))\n",
    "    treetestpredictions[:,i] = testpreds"
   ]
  },
  {
   "cell_type": "code",
   "execution_count": 195,
   "metadata": {},
   "outputs": [],
   "source": [
    "treeensemble = NeuralNetwork(indims = 8, nodes = [12,12,12,1], activations = ['relu','relu','relu'], taskType = 'c')"
   ]
  },
  {
   "cell_type": "code",
   "execution_count": 206,
   "metadata": {},
   "outputs": [
    {
     "data": {
      "image/png": "[encoded data removed]",
      "text/plain": [
       "<Figure size 432x288 with 1 Axes>"
      ]
     },
     "metadata": {
      "needs_background": "light"
     },
     "output_type": "display_data"
    }
   ],
   "source": [
    "treeensemble.train(treetrainpredictions, Ytrain, treevalpredictions, Yval, optim = 'adam',lr = .0001)"
   ]
  },
  {
   "cell_type": "code",
   "execution_count": 207,
   "metadata": {},
   "outputs": [
    {
     "data": {
      "text/plain": [
       "array([[0.00027496],\n",
       "       [0.0001876 ],\n",
       "       [0.0001876 ],\n",
       "       ...,\n",
       "       [0.00139389],\n",
       "       [0.00276315],\n",
       "       [0.00276315]])"
      ]
     },
     "execution_count": 207,
     "metadata": {},
     "output_type": "execute_result"
    }
   ],
   "source": [
    "treeensemble.predict(treevalpredictions, p = 1)"
   ]
  },
  {
   "cell_type": "code",
   "execution_count": 208,
   "metadata": {},
   "outputs": [
    {
     "data": {
      "text/plain": [
       "0.0"
      ]
     },
     "execution_count": 208,
     "metadata": {},
     "output_type": "execute_result"
    }
   ],
   "source": [
    "np.sum(treeensemble.prediction)"
   ]
  },
  {
   "cell_type": "markdown",
   "metadata": {},
   "source": [
    "# The following unleashes one of the most powerful algorithms known to man. XGBoost."
   ]
  },
  {
   "cell_type": "code",
   "execution_count": 211,
   "metadata": {},
   "outputs": [
    {
     "name": "stdout",
     "output_type": "stream",
     "text": [
      "Collecting xgboost\n",
      "\u001b[?25l  Downloading https://files.pythonhosted.org/packages/6a/49/7e10686647f741bd9c8918b0decdb94135b542fe372ca1100739b8529503/xgboost-0.82-py2.py3-none-manylinux1_x86_64.whl (114.0MB)\n",
      "\u001b[K    100% |████████████████████████████████| 114.0MB 437kB/s ta 0:00:011\n",
      "\u001b[?25hRequirement already satisfied: numpy in /home/donald/anaconda3/lib/python3.7/site-packages (from xgboost) (1.15.4)\n",
      "Requirement already satisfied: scipy in /home/donald/anaconda3/lib/python3.7/site-packages (from xgboost) (1.1.0)\n",
      "Installing collected packages: xgboost\n",
      "Successfully installed xgboost-0.82\n"
     ]
    }
   ],
   "source": [
    "!pip install xgboost"
   ]
  },
  {
   "cell_type": "code",
   "execution_count": 9,
   "metadata": {},
   "outputs": [],
   "source": [
    "import xgboost as xgb"
   ]
  },
  {
   "cell_type": "code",
   "execution_count": 71,
   "metadata": {},
   "outputs": [],
   "source": [
    "dtrain = xgb.DMatrix(Xtrain, label = Ytrain)\n",
    "param = {'max_depth': 3, 'eta': 1, 'silent': 1, 'objective': 'binary:logistic'}\n",
    "param['nthread'] = 4\n",
    "param['eval_metric'] = 'auc'\n",
    "dval = xgb.DMatrix(Xval, label = Yval)\n",
    "evallist = [(dtrain,'train'),(dval,'eval')]"
   ]
  },
  {
   "cell_type": "code",
   "execution_count": 72,
   "metadata": {},
   "outputs": [
    {
     "name": "stdout",
     "output_type": "stream",
     "text": [
      "[0]\ttrain-auc:0.915205\teval-auc:0.836413\n",
      "[1]\ttrain-auc:0.928344\teval-auc:0.855681\n",
      "[2]\ttrain-auc:0.929535\teval-auc:0.865201\n",
      "[3]\ttrain-auc:0.953869\teval-auc:0.897022\n",
      "[4]\ttrain-auc:0.960619\teval-auc:0.90712\n",
      "[5]\ttrain-auc:0.970711\teval-auc:0.946556\n",
      "[6]\ttrain-auc:0.987805\teval-auc:0.982655\n",
      "[7]\ttrain-auc:0.991089\teval-auc:0.980403\n",
      "[8]\ttrain-auc:0.993033\teval-auc:0.966906\n",
      "[9]\ttrain-auc:0.996296\teval-auc:0.960738\n",
      "[10]\ttrain-auc:0.997247\teval-auc:0.958953\n",
      "[11]\ttrain-auc:0.998046\teval-auc:0.965291\n",
      "[12]\ttrain-auc:0.998148\teval-auc:0.962698\n",
      "[13]\ttrain-auc:0.998313\teval-auc:0.958907\n",
      "[14]\ttrain-auc:0.998734\teval-auc:0.960268\n",
      "[15]\ttrain-auc:0.998916\teval-auc:0.965464\n",
      "[16]\ttrain-auc:0.99895\teval-auc:0.968288\n",
      "[17]\ttrain-auc:0.999373\teval-auc:0.959806\n",
      "[18]\ttrain-auc:0.999655\teval-auc:0.961536\n",
      "[19]\ttrain-auc:0.999758\teval-auc:0.966906\n"
     ]
    }
   ],
   "source": [
    "num_round = 20\n",
    "bst = xgb.train(param, dtrain, num_round, evallist)"
   ]
  },
  {
   "cell_type": "code",
   "execution_count": 9,
   "metadata": {},
   "outputs": [],
   "source": [
    "xgbtrainpred = np.round(bst.predict(dtrain)).reshape(-1,1)\n",
    "xgbvalpred = np.round(bst.predict(dval)).reshape(-1,1)\n",
    "dtest = xgb.DMatrix(Xtest,label = Ytest)\n",
    "xgbtestpred = np.round(bst.predict(dtest)).reshape(-1,1)\n"
   ]
  },
  {
   "cell_type": "code",
   "execution_count": 10,
   "metadata": {},
   "outputs": [
    {
     "data": {
      "text/plain": [
       "array([ 1.11116500e+06, -2.40255158e-01,  1.12234303e+01,  2.68857792e+01,\n",
       "        1.26156239e+01, -9.83603355e+00, -1.60816834e-01,  2.36155092e+00,\n",
       "        2.28524645e+00,  7.39684408e+00,  1.81466658e+00,  3.00326439e+01,\n",
       "       -9.13392430e+00,  8.57854419e+00,  5.58241321e+00,  1.03004083e+01,\n",
       "       -6.78086992e+00,  1.31036743e+01, -9.80730333e-01,  1.25972005e+00,\n",
       "        4.16322184e+00, -3.14470622e+00, -9.59593679e+00,  1.55896657e+00,\n",
       "       -2.53319043e+00,  2.06319602e+00,  1.40369685e-01,  1.38710839e+00,\n",
       "       -2.83783788e-01,  2.87518000e+03])"
      ]
     },
     "execution_count": 10,
     "metadata": {},
     "output_type": "execute_result"
    }
   ],
   "source": [
    "np.sum(Xtrain[np.where(xgbtestpred == 1)[0],], axis = 0)"
   ]
  },
  {
   "cell_type": "code",
   "execution_count": 11,
   "metadata": {},
   "outputs": [
    {
     "data": {
      "text/plain": [
       "2875.0"
      ]
     },
     "execution_count": 11,
     "metadata": {},
     "output_type": "execute_result"
    }
   ],
   "source": [
    "2.875*10**3"
   ]
  },
  {
   "cell_type": "code",
   "execution_count": 225,
   "metadata": {},
   "outputs": [],
   "source": [
    "tottrainpreds = np.column_stack((trainpredictions,xgbtrainpred))\n",
    "totvalpreds = np.column_stack((valpredictions, xgbvalpred))\n",
    "tottestpreds = np.column_stack((testpredictions, xgbtestpred))"
   ]
  },
  {
   "cell_type": "code",
   "execution_count": 251,
   "metadata": {},
   "outputs": [],
   "source": [
    "totensemble = NeuralNetwork(indims = 21, nodes = [20,20,20,20,1], activations = ['relu','relu','relu','relu'])"
   ]
  },
  {
   "cell_type": "code",
   "execution_count": 266,
   "metadata": {},
   "outputs": [
    {
     "data": {
      "image/png": "[encoded data removed]",
      "text/plain": [
       "<Figure size 432x288 with 1 Axes>"
      ]
     },
     "metadata": {
      "needs_background": "light"
     },
     "output_type": "display_data"
    }
   ],
   "source": [
    "totensemble.train(tottrainpreds, Ytrain, totvalpreds, Yval, optim = 'adam', lr = .0001)"
   ]
  },
  {
   "cell_type": "markdown",
   "metadata": {},
   "source": [
    "# The following makes 20 XGBoost models so I can ensemble those together."
   ]
  },
  {
   "cell_type": "code",
   "execution_count": 19,
   "metadata": {},
   "outputs": [
    {
     "name": "stdout",
     "output_type": "stream",
     "text": [
      "0\n",
      "[0]\ttrain-auc:0.957911\teval-auc:0.907129\n",
      "[1]\ttrain-auc:0.969838\teval-auc:0.965952\n",
      "[2]\ttrain-auc:0.986221\teval-auc:0.982572\n",
      "[3]\ttrain-auc:0.993878\teval-auc:0.982115\n",
      "[4]\ttrain-auc:0.993869\teval-auc:0.981369\n",
      "[5]\ttrain-auc:0.995464\teval-auc:0.97981\n",
      "[6]\ttrain-auc:0.997683\teval-auc:0.982378\n",
      "[7]\ttrain-auc:0.998581\teval-auc:0.985623\n",
      "1\n",
      "[0]\ttrain-auc:0.96349\teval-auc:0.909262\n",
      "[1]\ttrain-auc:0.980201\teval-auc:0.932038\n",
      "[2]\ttrain-auc:0.992963\teval-auc:0.956505\n",
      "[3]\ttrain-auc:0.996702\teval-auc:0.960104\n",
      "[4]\ttrain-auc:0.998643\teval-auc:0.968856\n",
      "[5]\ttrain-auc:0.999434\teval-auc:0.968778\n",
      "[6]\ttrain-auc:0.999723\teval-auc:0.980723\n",
      "[7]\ttrain-auc:0.999816\teval-auc:0.97502\n",
      "2\n",
      "[0]\ttrain-auc:0.965562\teval-auc:0.924558\n",
      "[1]\ttrain-auc:0.985134\teval-auc:0.927691\n",
      "[2]\ttrain-auc:0.986545\teval-auc:0.929282\n",
      "[3]\ttrain-auc:0.992567\teval-auc:0.961426\n",
      "[4]\ttrain-auc:0.996045\teval-auc:0.973759\n",
      "[5]\ttrain-auc:0.996854\teval-auc:0.97054\n",
      "[6]\ttrain-auc:0.998035\teval-auc:0.975054\n",
      "[7]\ttrain-auc:0.998159\teval-auc:0.979764\n",
      "3\n",
      "[0]\ttrain-auc:0.952375\teval-auc:0.925606\n",
      "[1]\ttrain-auc:0.975027\teval-auc:0.94655\n",
      "[2]\ttrain-auc:0.99177\teval-auc:0.958125\n",
      "[3]\ttrain-auc:0.994075\teval-auc:0.956815\n",
      "[4]\ttrain-auc:0.997424\teval-auc:0.961656\n",
      "[5]\ttrain-auc:0.998622\teval-auc:0.961645\n",
      "[6]\ttrain-auc:0.999151\teval-auc:0.974922\n",
      "[7]\ttrain-auc:0.999744\teval-auc:0.976387\n",
      "4\n",
      "[0]\ttrain-auc:0.963257\teval-auc:0.906584\n",
      "[1]\ttrain-auc:0.974242\teval-auc:0.933369\n",
      "[2]\ttrain-auc:0.989456\teval-auc:0.963822\n",
      "[3]\ttrain-auc:0.993143\teval-auc:0.979769\n",
      "[4]\ttrain-auc:0.99592\teval-auc:0.976058\n",
      "[5]\ttrain-auc:0.997371\teval-auc:0.971739\n",
      "[6]\ttrain-auc:0.997937\teval-auc:0.964254\n",
      "[7]\ttrain-auc:0.998622\teval-auc:0.962763\n",
      "5\n",
      "[0]\ttrain-auc:0.943944\teval-auc:0.873781\n",
      "[1]\ttrain-auc:0.983324\teval-auc:0.950622\n",
      "[2]\ttrain-auc:0.989415\teval-auc:0.952224\n",
      "[3]\ttrain-auc:0.994896\teval-auc:0.953141\n",
      "[4]\ttrain-auc:0.997832\teval-auc:0.965324\n",
      "[5]\ttrain-auc:0.998943\teval-auc:0.965929\n",
      "[6]\ttrain-auc:0.999459\teval-auc:0.972322\n",
      "[7]\ttrain-auc:0.999627\teval-auc:0.970014\n",
      "6\n",
      "[0]\ttrain-auc:0.959564\teval-auc:0.896613\n",
      "[1]\ttrain-auc:0.973912\teval-auc:0.900398\n",
      "[2]\ttrain-auc:0.984395\teval-auc:0.913923\n",
      "[3]\ttrain-auc:0.991669\teval-auc:0.947078\n",
      "[4]\ttrain-auc:0.995872\teval-auc:0.960391\n",
      "[5]\ttrain-auc:0.996818\teval-auc:0.95675\n",
      "[6]\ttrain-auc:0.999026\teval-auc:0.972246\n",
      "[7]\ttrain-auc:0.999407\teval-auc:0.973106\n",
      "7\n",
      "[0]\ttrain-auc:0.94794\teval-auc:0.906809\n",
      "[1]\ttrain-auc:0.967508\teval-auc:0.9229\n",
      "[2]\ttrain-auc:0.985243\teval-auc:0.940279\n",
      "[3]\ttrain-auc:0.994623\teval-auc:0.948172\n",
      "[4]\ttrain-auc:0.997052\teval-auc:0.957409\n",
      "[5]\ttrain-auc:0.998714\teval-auc:0.95999\n",
      "[6]\ttrain-auc:0.999233\teval-auc:0.956045\n",
      "[7]\ttrain-auc:0.999401\teval-auc:0.956513\n",
      "8\n",
      "[0]\ttrain-auc:0.939377\teval-auc:0.882994\n",
      "[1]\ttrain-auc:0.964877\teval-auc:0.942546\n",
      "[2]\ttrain-auc:0.979738\teval-auc:0.950863\n",
      "[3]\ttrain-auc:0.991275\teval-auc:0.941179\n",
      "[4]\ttrain-auc:0.997558\teval-auc:0.932266\n",
      "[5]\ttrain-auc:0.998683\teval-auc:0.930436\n",
      "[6]\ttrain-auc:0.999303\teval-auc:0.938886\n",
      "[7]\ttrain-auc:0.999621\teval-auc:0.947357\n",
      "9\n",
      "[0]\ttrain-auc:0.954786\teval-auc:0.905575\n",
      "[1]\ttrain-auc:0.98201\teval-auc:0.907065\n",
      "[2]\ttrain-auc:0.98976\teval-auc:0.913806\n",
      "[3]\ttrain-auc:0.993982\teval-auc:0.932882\n",
      "[4]\ttrain-auc:0.995793\teval-auc:0.93669\n",
      "[5]\ttrain-auc:0.998369\teval-auc:0.953603\n",
      "[6]\ttrain-auc:0.999076\teval-auc:0.952666\n",
      "[7]\ttrain-auc:0.999459\teval-auc:0.944901\n",
      "10\n",
      "[0]\ttrain-auc:0.952695\teval-auc:0.906988\n",
      "[1]\ttrain-auc:0.969384\teval-auc:0.957289\n",
      "[2]\ttrain-auc:0.987385\teval-auc:0.948875\n",
      "[3]\ttrain-auc:0.993839\teval-auc:0.960977\n",
      "[4]\ttrain-auc:0.99631\teval-auc:0.942801\n",
      "[5]\ttrain-auc:0.996685\teval-auc:0.938491\n",
      "[6]\ttrain-auc:0.997447\teval-auc:0.927726\n",
      "[7]\ttrain-auc:0.997938\teval-auc:0.931011\n",
      "11\n",
      "[0]\ttrain-auc:0.956644\teval-auc:0.896358\n",
      "[1]\ttrain-auc:0.96708\teval-auc:0.929229\n",
      "[2]\ttrain-auc:0.988842\teval-auc:0.970431\n",
      "[3]\ttrain-auc:0.996301\teval-auc:0.968554\n",
      "[4]\ttrain-auc:0.997519\teval-auc:0.963854\n",
      "[5]\ttrain-auc:0.998664\teval-auc:0.954917\n",
      "[6]\ttrain-auc:0.998876\teval-auc:0.957106\n",
      "[7]\ttrain-auc:0.999251\teval-auc:0.953615\n",
      "12\n",
      "[0]\ttrain-auc:0.948112\teval-auc:0.907175\n",
      "[1]\ttrain-auc:0.967335\teval-auc:0.959865\n",
      "[2]\ttrain-auc:0.987904\teval-auc:0.973456\n",
      "[3]\ttrain-auc:0.993478\teval-auc:0.977242\n",
      "[4]\ttrain-auc:0.995649\teval-auc:0.981532\n",
      "[5]\ttrain-auc:0.997131\teval-auc:0.963123\n",
      "[6]\ttrain-auc:0.99779\teval-auc:0.958974\n",
      "[7]\ttrain-auc:0.998926\teval-auc:0.965788\n",
      "13\n",
      "[0]\ttrain-auc:0.948188\teval-auc:0.881222\n",
      "[1]\ttrain-auc:0.968781\teval-auc:0.912068\n",
      "[2]\ttrain-auc:0.986284\teval-auc:0.897473\n",
      "[3]\ttrain-auc:0.990346\teval-auc:0.899128\n",
      "[4]\ttrain-auc:0.994429\teval-auc:0.947006\n",
      "[5]\ttrain-auc:0.996244\teval-auc:0.957592\n",
      "[6]\ttrain-auc:0.997804\teval-auc:0.95531\n",
      "[7]\ttrain-auc:0.998804\teval-auc:0.953\n",
      "14\n",
      "[0]\ttrain-auc:0.953382\teval-auc:0.906924\n",
      "[1]\ttrain-auc:0.968463\teval-auc:0.949715\n",
      "[2]\ttrain-auc:0.988196\teval-auc:0.964383\n",
      "[3]\ttrain-auc:0.994278\teval-auc:0.956104\n",
      "[4]\ttrain-auc:0.997105\teval-auc:0.957895\n",
      "[5]\ttrain-auc:0.998659\teval-auc:0.946769\n",
      "[6]\ttrain-auc:0.999027\teval-auc:0.95207\n",
      "[7]\ttrain-auc:0.999585\teval-auc:0.958356\n",
      "15\n",
      "[0]\ttrain-auc:0.955985\teval-auc:0.916062\n",
      "[1]\ttrain-auc:0.969678\teval-auc:0.956462\n",
      "[2]\ttrain-auc:0.985161\teval-auc:0.934697\n",
      "[3]\ttrain-auc:0.994816\teval-auc:0.933916\n",
      "[4]\ttrain-auc:0.997055\teval-auc:0.947866\n",
      "[5]\ttrain-auc:0.998581\teval-auc:0.968484\n",
      "[6]\ttrain-auc:0.999193\teval-auc:0.964296\n",
      "[7]\ttrain-auc:0.999436\teval-auc:0.96962\n",
      "16\n",
      "[0]\ttrain-auc:0.961274\teval-auc:0.924422\n",
      "[1]\ttrain-auc:0.974921\teval-auc:0.939529\n",
      "[2]\ttrain-auc:0.988612\teval-auc:0.962875\n",
      "[3]\ttrain-auc:0.995089\teval-auc:0.976864\n",
      "[4]\ttrain-auc:0.99717\teval-auc:0.979137\n",
      "[5]\ttrain-auc:0.998284\teval-auc:0.972791\n",
      "[6]\ttrain-auc:0.998804\teval-auc:0.967713\n",
      "[7]\ttrain-auc:0.999043\teval-auc:0.97089\n",
      "17\n",
      "[0]\ttrain-auc:0.96169\teval-auc:0.903946\n",
      "[1]\ttrain-auc:0.980973\teval-auc:0.95416\n",
      "[2]\ttrain-auc:0.992036\teval-auc:0.963763\n",
      "[3]\ttrain-auc:0.995939\teval-auc:0.963431\n",
      "[4]\ttrain-auc:0.997791\teval-auc:0.968231\n",
      "[5]\ttrain-auc:0.998401\teval-auc:0.969036\n",
      "[6]\ttrain-auc:0.999193\teval-auc:0.966065\n",
      "[7]\ttrain-auc:0.999379\teval-auc:0.962331\n",
      "18\n",
      "[0]\ttrain-auc:0.952929\teval-auc:0.909138\n",
      "[1]\ttrain-auc:0.966164\teval-auc:0.922106\n",
      "[2]\ttrain-auc:0.988887\teval-auc:0.94103\n",
      "[3]\ttrain-auc:0.989631\teval-auc:0.93997\n",
      "[4]\ttrain-auc:0.99592\teval-auc:0.956745\n",
      "[5]\ttrain-auc:0.997225\teval-auc:0.948583\n",
      "[6]\ttrain-auc:0.998569\teval-auc:0.95014\n",
      "[7]\ttrain-auc:0.999113\teval-auc:0.953779\n",
      "19\n",
      "[0]\ttrain-auc:0.956416\teval-auc:0.896663\n",
      "[1]\ttrain-auc:0.961456\teval-auc:0.932017\n",
      "[2]\ttrain-auc:0.987239\teval-auc:0.959947\n",
      "[3]\ttrain-auc:0.99536\teval-auc:0.963342\n",
      "[4]\ttrain-auc:0.995839\teval-auc:0.961993\n",
      "[5]\ttrain-auc:0.996746\teval-auc:0.971003\n",
      "[6]\ttrain-auc:0.99702\teval-auc:0.9731\n",
      "[7]\ttrain-auc:0.997967\teval-auc:0.96785\n"
     ]
    }
   ],
   "source": [
    "models = {}\n",
    "errs = []\n",
    "for i in range(20):\n",
    "    print(i)\n",
    "    choicenot = np.random.choice(list(range(len(Xtrainnot))),size = 3000,replace = True)\n",
    "    Xtrain1 = Xtrainnot[choicenot,]\n",
    "    Ytrain1 = Ytrainnot[choicenot,]\n",
    "    choicefraud = np.random.choice(list(range(len(Xtrainfraud))),size = 500,replace = True)\n",
    "    Xtrain2 = Xtrainfraud[choicefraud,]\n",
    "    Ytrain2 = Ytrainfraud[choicefraud,]\n",
    "    newX = np.row_stack((Xtrain1,Xtrain2))\n",
    "    newY = np.row_stack((Ytrain1,Ytrain2))\n",
    "    dtrain = xgb.DMatrix(newX, label = newY)\n",
    "    param = {'max_depth': 3, 'eta': 1, 'silent': 1, 'objective': 'binary:logistic'}\n",
    "    param['nthread'] = 4\n",
    "    param['eval_metric'] = 'auc'\n",
    "    dval = xgb.DMatrix(Xval, label = Yval)\n",
    "    evallist = [(dtrain,'train'),(dval,'eval')]\n",
    "    num_round = 8\n",
    "    bst = xgb.train(param, dtrain, num_round, evallist)\n",
    "    models[str(i)] = bst"
   ]
  },
  {
   "cell_type": "code",
   "execution_count": 20,
   "metadata": {},
   "outputs": [],
   "source": [
    "dtrain = xgb.DMatrix(Xtrain)\n",
    "dval = xgb.DMatrix(Xval)\n",
    "dtest = xgb.DMatrix(Xtest)"
   ]
  },
  {
   "cell_type": "code",
   "execution_count": 24,
   "metadata": {},
   "outputs": [],
   "source": [
    "trainpredictions = np.empty((len(Xtrain),20))\n",
    "valpredictions = np.empty((len(Xval),20))\n",
    "testpredictions = np.empty((len(Xtest), 20))\n",
    "for i in range(20):\n",
    "    trainpred = models[str(i)].predict(dtrain)\n",
    "    trainpredictions[:,i] = trainpred.tolist()\n",
    "    valpred = models[str(i)].predict(dval)\n",
    "    valpredictions[:,i] = valpred.tolist()\n",
    "    testpred = models[str(i)].predict(dtest)\n",
    "    testpredictions[:,i] = testpred.tolist()"
   ]
  },
  {
   "cell_type": "code",
   "execution_count": 26,
   "metadata": {},
   "outputs": [],
   "source": [
    "bootxgb = NeuralNetwork(indims = 20, nodes = [15,15,15,1], activations = ['relu','relu','relu'], taskType = 'c')"
   ]
  },
  {
   "cell_type": "code",
   "execution_count": 35,
   "metadata": {},
   "outputs": [
    {
     "data": {
      "image/png": "[encoded data removed]",
      "text/plain": [
       "<Figure size 432x288 with 1 Axes>"
      ]
     },
     "metadata": {
      "needs_background": "light"
     },
     "output_type": "display_data"
    }
   ],
   "source": [
    "bootxgb.train(trainpredictions,Ytrain,valpredictions,Yval, optim = 'adam',lr = .00001)"
   ]
  },
  {
   "cell_type": "code",
   "execution_count": 77,
   "metadata": {},
   "outputs": [
    {
     "data": {
      "text/plain": [
       "0.8645833333333334"
      ]
     },
     "execution_count": 77,
     "metadata": {},
     "output_type": "execute_result"
    }
   ],
   "source": [
    "np.sum(np.round(bootxgb.predict(trainpredictions,1))*Ytrain)/np.sum(Ytrain)"
   ]
  },
  {
   "cell_type": "code",
   "execution_count": 39,
   "metadata": {},
   "outputs": [
    {
     "data": {
      "text/plain": [
       "array([[9.84308298e-05],\n",
       "       [1.00760348e-04],\n",
       "       [1.07629576e-04],\n",
       "       ...,\n",
       "       [1.05798960e-04],\n",
       "       [9.67365931e-05],\n",
       "       [9.92152631e-05]])"
      ]
     },
     "execution_count": 39,
     "metadata": {},
     "output_type": "execute_result"
    }
   ],
   "source": [
    "bootxgb.predict(testpredictions, 1)"
   ]
  },
  {
   "cell_type": "code",
   "execution_count": 41,
   "metadata": {},
   "outputs": [
    {
     "data": {
      "text/plain": [
       "0.8214285714285714"
      ]
     },
     "execution_count": 41,
     "metadata": {},
     "output_type": "execute_result"
    }
   ],
   "source": [
    "np.sum(bootxgb.prediction*Ytest)/np.sum(Ytest)"
   ]
  },
  {
   "cell_type": "code",
   "execution_count": 42,
   "metadata": {},
   "outputs": [],
   "source": [
    "import sklearn"
   ]
  },
  {
   "cell_type": "code",
   "execution_count": 53,
   "metadata": {},
   "outputs": [],
   "source": [
    "newpreds = bootxgb.probabilities\n",
    "indices = np.argsort(newpreds, axis = 0).T[0]\n",
    "predictions = newpreds[indices,]\n",
    "truth = Ytest[indices,]"
   ]
  },
  {
   "cell_type": "code",
   "execution_count": 56,
   "metadata": {},
   "outputs": [
    {
     "data": {
      "text/plain": [
       "array([[4.17259568e-05],\n",
       "       [4.65243801e-05],\n",
       "       [5.16660148e-05],\n",
       "       ...,\n",
       "       [8.48718020e-01],\n",
       "       [8.48803041e-01],\n",
       "       [8.49695873e-01]])"
      ]
     },
     "execution_count": 56,
     "metadata": {},
     "output_type": "execute_result"
    }
   ],
   "source": [
    "predictions"
   ]
  },
  {
   "cell_type": "code",
   "execution_count": 63,
   "metadata": {},
   "outputs": [],
   "source": [
    "fpr, tpr, thresholds = sklearn.metrics.roc_curve(truth.T[0], predictions.T[0])"
   ]
  },
  {
   "cell_type": "code",
   "execution_count": 65,
   "metadata": {},
   "outputs": [
    {
     "data": {
      "text/plain": [
       "0.9805825283353702"
      ]
     },
     "execution_count": 65,
     "metadata": {},
     "output_type": "execute_result"
    }
   ],
   "source": [
    "sklearn.metrics.auc(fpr,tpr)"
   ]
  },
  {
   "cell_type": "markdown",
   "metadata": {},
   "source": [
    "# The below is the accuracy of the model. I guessed nearly 100% of the observations correctly."
   ]
  },
  {
   "cell_type": "code",
   "execution_count": 73,
   "metadata": {},
   "outputs": [
    {
     "data": {
      "text/plain": [
       "0.9994850307811147"
      ]
     },
     "execution_count": 73,
     "metadata": {},
     "output_type": "execute_result"
    }
   ],
   "source": [
    "np.sum(bootxgb.prediction==Ytest)/len(Ytest)"
   ]
  },
  {
   "cell_type": "code",
   "execution_count": 75,
   "metadata": {},
   "outputs": [
    {
     "data": {
      "text/plain": [
       "[<matplotlib.lines.Line2D at 0x7fc6260cab00>]"
      ]
     },
     "execution_count": 75,
     "metadata": {},
     "output_type": "execute_result"
    },
    {
     "data": {
      "image/png": "[encoded data removed]",
      "text/plain": [
       "<Figure size 432x288 with 1 Axes>"
      ]
     },
     "metadata": {
      "needs_background": "light"
     },
     "output_type": "display_data"
    }
   ],
   "source": [
    "plt.plot(fpr,tpr)"
   ]
  }
 ],
 "metadata": {
  "kernelspec": {
   "display_name": "Python 3",
   "language": "python",
   "name": "python3"
  },
  "language_info": {
   "codemirror_mode": {
    "name": "ipython",
    "version": 3
   },
   "file_extension": ".py",
   "mimetype": "text/x-python",
   "name": "python",
   "nbconvert_exporter": "python",
   "pygments_lexer": "ipython3",
   "version": "3.7.1"
  }
 },
 "nbformat": 4,
 "nbformat_minor": 2
}
